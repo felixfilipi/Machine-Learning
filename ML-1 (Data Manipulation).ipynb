{
 "cells": [
  {
   "cell_type": "code",
   "execution_count": 1,
   "id": "bronze-coupon",
   "metadata": {},
   "outputs": [
    {
     "name": "stdout",
     "output_type": "stream",
     "text": [
      "       Date     Location  New Cases  New Deaths  New Recovered  Total Cases  \\\n",
      "0  3/1/2020  DKI Jakarta          2           0              0          489   \n",
      "1  3/2/2020  DKI Jakarta          2           0              0          491   \n",
      "2  3/2/2020    Indonesia          2           0              0            2   \n",
      "3  3/2/2020   Jawa Barat          3           0              0           12   \n",
      "4  3/2/2020         Riau          1           0              0            2   \n",
      "\n",
      "   Total Deaths  Total Recovered  \n",
      "0            20               39  \n",
      "1            20               39  \n",
      "2             0                0  \n",
      "3             5              135  \n",
      "4             1                1  \n"
     ]
    }
   ],
   "source": [
    "#Data manupulation\n",
    "import pandas as pd\n",
    "\n",
    "# Load dataset\n",
    "filename = 'datasets/covid_19_indonesia_time_series_all.csv'\n",
    "names = ['Date', 'Location', 'New Cases', 'New Deaths','New Recovered','Total Cases','Total Deaths',\n",
    "         'Total Recovered']\n",
    "dataset = pd.read_csv(filename, usecols=names)\n",
    "dataset=dataset.head(5)\n",
    "\n",
    "print(dataset)"
   ]
  },
  {
   "cell_type": "code",
   "execution_count": 2,
   "id": "literary-pioneer",
   "metadata": {},
   "outputs": [
    {
     "name": "stdout",
     "output_type": "stream",
     "text": [
      "Date      Location     New Cases  New Deaths  New Recovered  Total Cases  Total Deaths  Total Recovered\n",
      "3/1/2020  DKI Jakarta  2          0           0              489          20            39                 0.2\n",
      "3/2/2020  DKI Jakarta  2          0           0              491          20            39                 0.2\n",
      "          Indonesia    2          0           0              2            0             0                  0.2\n",
      "          Jawa Barat   3          0           0              12           5             135                0.2\n",
      "          Riau         1          0           0              2            1             1                  0.2\n",
      "dtype: float64\n"
     ]
    }
   ],
   "source": [
    "#1. Find out what categories exist and how many neighbourhood belong to each category by using the value_counts() method\n",
    "print(dataset.value_counts(normalize = True))"
   ]
  },
  {
   "cell_type": "code",
   "execution_count": 3,
   "id": "progressive-handbook",
   "metadata": {},
   "outputs": [
    {
     "name": "stdout",
     "output_type": "stream",
     "text": [
      "       New Cases  New Deaths  New Recovered  Total Cases  Total Deaths  \\\n",
      "count   5.000000         5.0            5.0     5.000000      5.000000   \n",
      "mean    2.000000         0.0            0.0   199.200000      9.200000   \n",
      "std     0.707107         0.0            0.0   265.495198     10.034939   \n",
      "min     1.000000         0.0            0.0     2.000000      0.000000   \n",
      "25%     2.000000         0.0            0.0     2.000000      1.000000   \n",
      "50%     2.000000         0.0            0.0    12.000000      5.000000   \n",
      "75%     2.000000         0.0            0.0   489.000000     20.000000   \n",
      "max     3.000000         0.0            0.0   491.000000     20.000000   \n",
      "\n",
      "       Total Recovered  \n",
      "count         5.000000  \n",
      "mean         42.800000  \n",
      "std          55.019996  \n",
      "min           0.000000  \n",
      "25%           1.000000  \n",
      "50%          39.000000  \n",
      "75%          39.000000  \n",
      "max         135.000000  \n"
     ]
    }
   ],
   "source": [
    "#2. Shows a summary of the numerical attributes\n",
    "print(dataset.describe())"
   ]
  },
  {
   "cell_type": "code",
   "execution_count": 4,
   "id": "pretty-impression",
   "metadata": {},
   "outputs": [
    {
     "data": {
      "text/html": [
       "<div>\n",
       "<style scoped>\n",
       "    .dataframe tbody tr th:only-of-type {\n",
       "        vertical-align: middle;\n",
       "    }\n",
       "\n",
       "    .dataframe tbody tr th {\n",
       "        vertical-align: top;\n",
       "    }\n",
       "\n",
       "    .dataframe thead th {\n",
       "        text-align: right;\n",
       "    }\n",
       "</style>\n",
       "<table border=\"1\" class=\"dataframe\">\n",
       "  <thead>\n",
       "    <tr style=\"text-align: right;\">\n",
       "      <th></th>\n",
       "      <th>Date</th>\n",
       "      <th>Location</th>\n",
       "      <th>New Cases</th>\n",
       "      <th>New Deaths</th>\n",
       "      <th>New Recovered</th>\n",
       "      <th>Total Cases</th>\n",
       "      <th>Total Deaths</th>\n",
       "      <th>Total Recovered</th>\n",
       "    </tr>\n",
       "  </thead>\n",
       "  <tbody>\n",
       "    <tr>\n",
       "      <th>0</th>\n",
       "      <td>False</td>\n",
       "      <td>False</td>\n",
       "      <td>False</td>\n",
       "      <td>False</td>\n",
       "      <td>False</td>\n",
       "      <td>False</td>\n",
       "      <td>False</td>\n",
       "      <td>False</td>\n",
       "    </tr>\n",
       "    <tr>\n",
       "      <th>1</th>\n",
       "      <td>False</td>\n",
       "      <td>False</td>\n",
       "      <td>False</td>\n",
       "      <td>False</td>\n",
       "      <td>False</td>\n",
       "      <td>False</td>\n",
       "      <td>False</td>\n",
       "      <td>False</td>\n",
       "    </tr>\n",
       "    <tr>\n",
       "      <th>2</th>\n",
       "      <td>False</td>\n",
       "      <td>False</td>\n",
       "      <td>False</td>\n",
       "      <td>False</td>\n",
       "      <td>False</td>\n",
       "      <td>False</td>\n",
       "      <td>False</td>\n",
       "      <td>False</td>\n",
       "    </tr>\n",
       "    <tr>\n",
       "      <th>3</th>\n",
       "      <td>False</td>\n",
       "      <td>False</td>\n",
       "      <td>False</td>\n",
       "      <td>False</td>\n",
       "      <td>False</td>\n",
       "      <td>False</td>\n",
       "      <td>False</td>\n",
       "      <td>False</td>\n",
       "    </tr>\n",
       "    <tr>\n",
       "      <th>4</th>\n",
       "      <td>False</td>\n",
       "      <td>False</td>\n",
       "      <td>False</td>\n",
       "      <td>False</td>\n",
       "      <td>False</td>\n",
       "      <td>False</td>\n",
       "      <td>False</td>\n",
       "      <td>False</td>\n",
       "    </tr>\n",
       "  </tbody>\n",
       "</table>\n",
       "</div>"
      ],
      "text/plain": [
       "    Date  Location  New Cases  New Deaths  New Recovered  Total Cases  \\\n",
       "0  False     False      False       False          False        False   \n",
       "1  False     False      False       False          False        False   \n",
       "2  False     False      False       False          False        False   \n",
       "3  False     False      False       False          False        False   \n",
       "4  False     False      False       False          False        False   \n",
       "\n",
       "   Total Deaths  Total Recovered  \n",
       "0         False            False  \n",
       "1         False            False  \n",
       "2         False            False  \n",
       "3         False            False  \n",
       "4         False            False  "
      ]
     },
     "execution_count": 4,
     "metadata": {},
     "output_type": "execute_result"
    }
   ],
   "source": [
    "#3. Replacing missing data with the mean value or others \n",
    "\n",
    "#Check the existence of empty cells and return Boolean values\n",
    "dataset.isnull()"
   ]
  },
  {
   "cell_type": "code",
   "execution_count": 5,
   "id": "distinct-clerk",
   "metadata": {},
   "outputs": [
    {
     "data": {
      "text/html": [
       "<div>\n",
       "<style scoped>\n",
       "    .dataframe tbody tr th:only-of-type {\n",
       "        vertical-align: middle;\n",
       "    }\n",
       "\n",
       "    .dataframe tbody tr th {\n",
       "        vertical-align: top;\n",
       "    }\n",
       "\n",
       "    .dataframe thead th {\n",
       "        text-align: right;\n",
       "    }\n",
       "</style>\n",
       "<table border=\"1\" class=\"dataframe\">\n",
       "  <thead>\n",
       "    <tr style=\"text-align: right;\">\n",
       "      <th></th>\n",
       "      <th>Date</th>\n",
       "      <th>Location</th>\n",
       "      <th>New Cases</th>\n",
       "      <th>New Deaths</th>\n",
       "      <th>New Recovered</th>\n",
       "      <th>Total Cases</th>\n",
       "      <th>Total Deaths</th>\n",
       "      <th>Total Recovered</th>\n",
       "    </tr>\n",
       "  </thead>\n",
       "  <tbody>\n",
       "    <tr>\n",
       "      <th>0</th>\n",
       "      <td>3/1/2020</td>\n",
       "      <td>DKI Jakarta</td>\n",
       "      <td>2</td>\n",
       "      <td>0</td>\n",
       "      <td>0</td>\n",
       "      <td>489</td>\n",
       "      <td>20</td>\n",
       "      <td>39</td>\n",
       "    </tr>\n",
       "    <tr>\n",
       "      <th>1</th>\n",
       "      <td>3/2/2020</td>\n",
       "      <td>DKI Jakarta</td>\n",
       "      <td>2</td>\n",
       "      <td>0</td>\n",
       "      <td>0</td>\n",
       "      <td>491</td>\n",
       "      <td>20</td>\n",
       "      <td>39</td>\n",
       "    </tr>\n",
       "    <tr>\n",
       "      <th>2</th>\n",
       "      <td>3/2/2020</td>\n",
       "      <td>Indonesia</td>\n",
       "      <td>2</td>\n",
       "      <td>0</td>\n",
       "      <td>0</td>\n",
       "      <td>2</td>\n",
       "      <td>0</td>\n",
       "      <td>0</td>\n",
       "    </tr>\n",
       "    <tr>\n",
       "      <th>3</th>\n",
       "      <td>3/2/2020</td>\n",
       "      <td>Jawa Barat</td>\n",
       "      <td>3</td>\n",
       "      <td>0</td>\n",
       "      <td>0</td>\n",
       "      <td>12</td>\n",
       "      <td>5</td>\n",
       "      <td>135</td>\n",
       "    </tr>\n",
       "    <tr>\n",
       "      <th>4</th>\n",
       "      <td>3/2/2020</td>\n",
       "      <td>Riau</td>\n",
       "      <td>1</td>\n",
       "      <td>0</td>\n",
       "      <td>0</td>\n",
       "      <td>2</td>\n",
       "      <td>1</td>\n",
       "      <td>1</td>\n",
       "    </tr>\n",
       "  </tbody>\n",
       "</table>\n",
       "</div>"
      ],
      "text/plain": [
       "       Date     Location  New Cases  New Deaths  New Recovered  Total Cases  \\\n",
       "0  3/1/2020  DKI Jakarta          2           0              0          489   \n",
       "1  3/2/2020  DKI Jakarta          2           0              0          491   \n",
       "2  3/2/2020    Indonesia          2           0              0            2   \n",
       "3  3/2/2020   Jawa Barat          3           0              0           12   \n",
       "4  3/2/2020         Riau          1           0              0            2   \n",
       "\n",
       "   Total Deaths  Total Recovered  \n",
       "0            20               39  \n",
       "1            20               39  \n",
       "2             0                0  \n",
       "3             5              135  \n",
       "4             1                1  "
      ]
     },
     "execution_count": 5,
     "metadata": {},
     "output_type": "execute_result"
    }
   ],
   "source": [
    "#No missing value found in 5 head, but in case of following the instruction we have to\n",
    "dataset.fillna(dataset.mean())"
   ]
  },
  {
   "cell_type": "code",
   "execution_count": 6,
   "id": "brutal-breakdown",
   "metadata": {},
   "outputs": [
    {
     "data": {
      "image/png": "[encoded data removed]",
      "text/plain": [
       "<Figure size 432x288 with 2 Axes>"
      ]
     },
     "metadata": {
      "needs_background": "light"
     },
     "output_type": "display_data"
    },
    {
     "data": {
      "image/png": "[encoded data removed]",
      "text/plain": [
       "<Figure size 432x288 with 2 Axes>"
      ]
     },
     "metadata": {
      "needs_background": "light"
     },
     "output_type": "display_data"
    },
    {
     "data": {
      "image/png": "[encoded data removed]",
      "text/plain": [
       "<Figure size 432x288 with 2 Axes>"
      ]
     },
     "metadata": {
      "needs_background": "light"
     },
     "output_type": "display_data"
    }
   ],
   "source": [
    "#4. Plot a histogram for each numerical attribute\n",
    "histogram = dataset[['New Cases','New Deaths']].hist()\n",
    "histogram = dataset[['New Recovered','Total Cases']].hist()\n",
    "histogram = dataset[['Total Deaths','Total Recovered']].hist()"
   ]
  },
  {
   "cell_type": "code",
   "execution_count": 7,
   "id": "disciplinary-embassy",
   "metadata": {},
   "outputs": [
    {
     "name": "stdout",
     "output_type": "stream",
     "text": [
      "Train set:        Date     Location  New Cases  New Deaths  New Recovered  Total Cases  \\\n",
      "2  3/2/2020    Indonesia          2           0              0            2   \n",
      "0  3/1/2020  DKI Jakarta          2           0              0          489   \n",
      "1  3/2/2020  DKI Jakarta          2           0              0          491   \n",
      "3  3/2/2020   Jawa Barat          3           0              0           12   \n",
      "\n",
      "   Total Deaths  Total Recovered  \n",
      "2             0                0  \n",
      "0            20               39  \n",
      "1            20               39  \n",
      "3             5              135  \n",
      "\n",
      "Test set        Date Location  New Cases  New Deaths  New Recovered  Total Cases  \\\n",
      "4  3/2/2020     Riau          1           0              0            2   \n",
      "\n",
      "   Total Deaths  Total Recovered  \n",
      "4             1                1  \n"
     ]
    }
   ],
   "source": [
    "#5. Splitting the Dataset into the Training set and Test set\n",
    "\n",
    "train = dataset.sample(frac=0.75, random_state=0)\n",
    "test = dataset.drop(train.index)\n",
    "print(\"Train set:\",train)\n",
    "print(\"\\nTest set\",test)"
   ]
  }
 ],
 "metadata": {
  "kernelspec": {
   "display_name": "Python 3",
   "language": "python",
   "name": "python3"
  },
  "language_info": {
   "codemirror_mode": {
    "name": "ipython",
    "version": 3
   },
   "file_extension": ".py",
   "mimetype": "text/x-python",
   "name": "python",
   "nbconvert_exporter": "python",
   "pygments_lexer": "ipython3",
   "version": "3.7.9"
  }
 },
 "nbformat": 4,
 "nbformat_minor": 5
}
