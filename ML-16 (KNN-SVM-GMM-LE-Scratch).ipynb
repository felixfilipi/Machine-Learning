{
 "cells": [
  {
   "cell_type": "markdown",
   "id": "racial-proportion",
   "metadata": {},
   "source": [
    "<h1 style=\"text-align:center\">Machine Learning</h1>\n",
    "<h2 style=\"text-align:center\">Felix Filipi-2301877590</h2>"
   ]
  },
  {
   "cell_type": "markdown",
   "id": "hidden-charge",
   "metadata": {},
   "source": [
    "<h3>1. Observe thoroughly the table below showing 4 datasets with 10 \n",
    "dimensions. If your object query having vector (1,1,1,1,1,1,1,1,1,1) and the similarity is \n",
    "calculated based on Euclidean distance metric and k-NN (k-Nearest Neighbour) algorithm, find \n",
    "the most similar object with the object query. To obtain a reasonable computational accuracy, \n",
    "make sure the dataset has been normalized and you get the best possible “k”."
   ]
  },
  {
   "cell_type": "markdown",
   "id": "handy-deployment",
   "metadata": {},
   "source": [
    "Build Dataset (4 dataset provided + the object query)"
   ]
  },
  {
   "cell_type": "code",
   "execution_count": 1,
   "id": "distributed-revelation",
   "metadata": {
    "scrolled": true
   },
   "outputs": [
    {
     "data": {
      "text/html": [
       "<div>\n",
       "<style scoped>\n",
       "    .dataframe tbody tr th:only-of-type {\n",
       "        vertical-align: middle;\n",
       "    }\n",
       "\n",
       "    .dataframe tbody tr th {\n",
       "        vertical-align: top;\n",
       "    }\n",
       "\n",
       "    .dataframe thead th {\n",
       "        text-align: right;\n",
       "    }\n",
       "</style>\n",
       "<table border=\"1\" class=\"dataframe\">\n",
       "  <thead>\n",
       "    <tr style=\"text-align: right;\">\n",
       "      <th></th>\n",
       "      <th>ID</th>\n",
       "      <th>d1</th>\n",
       "      <th>d2</th>\n",
       "      <th>d3</th>\n",
       "      <th>d4</th>\n",
       "      <th>d5</th>\n",
       "      <th>d6</th>\n",
       "      <th>d7</th>\n",
       "      <th>d8</th>\n",
       "      <th>d9</th>\n",
       "      <th>d10</th>\n",
       "    </tr>\n",
       "  </thead>\n",
       "  <tbody>\n",
       "    <tr>\n",
       "      <th>0</th>\n",
       "      <td>1</td>\n",
       "      <td>1.1</td>\n",
       "      <td>100.0</td>\n",
       "      <td>1.2</td>\n",
       "      <td>1.6</td>\n",
       "      <td>1.6</td>\n",
       "      <td>1.1</td>\n",
       "      <td>1.2</td>\n",
       "      <td>1.2</td>\n",
       "      <td>1</td>\n",
       "      <td>1</td>\n",
       "    </tr>\n",
       "    <tr>\n",
       "      <th>1</th>\n",
       "      <td>2</td>\n",
       "      <td>1.4</td>\n",
       "      <td>1.4</td>\n",
       "      <td>1.4</td>\n",
       "      <td>1.5</td>\n",
       "      <td>100.0</td>\n",
       "      <td>1.4</td>\n",
       "      <td>1.2</td>\n",
       "      <td>1.2</td>\n",
       "      <td>1</td>\n",
       "      <td>1</td>\n",
       "    </tr>\n",
       "    <tr>\n",
       "      <th>2</th>\n",
       "      <td>3</td>\n",
       "      <td>1.0</td>\n",
       "      <td>1.0</td>\n",
       "      <td>1.0</td>\n",
       "      <td>1.0</td>\n",
       "      <td>1.0</td>\n",
       "      <td>1.0</td>\n",
       "      <td>2.0</td>\n",
       "      <td>100.0</td>\n",
       "      <td>2</td>\n",
       "      <td>2</td>\n",
       "    </tr>\n",
       "    <tr>\n",
       "      <th>3</th>\n",
       "      <td>4</td>\n",
       "      <td>20.0</td>\n",
       "      <td>20.0</td>\n",
       "      <td>20.0</td>\n",
       "      <td>20.0</td>\n",
       "      <td>20.0</td>\n",
       "      <td>20.0</td>\n",
       "      <td>20.0</td>\n",
       "      <td>20.0</td>\n",
       "      <td>20</td>\n",
       "      <td>20</td>\n",
       "    </tr>\n",
       "    <tr>\n",
       "      <th>4</th>\n",
       "      <td>5</td>\n",
       "      <td>1.0</td>\n",
       "      <td>1.0</td>\n",
       "      <td>1.0</td>\n",
       "      <td>1.0</td>\n",
       "      <td>1.0</td>\n",
       "      <td>1.0</td>\n",
       "      <td>1.0</td>\n",
       "      <td>1.0</td>\n",
       "      <td>1</td>\n",
       "      <td>1</td>\n",
       "    </tr>\n",
       "  </tbody>\n",
       "</table>\n",
       "</div>"
      ],
      "text/plain": [
       "   ID    d1     d2    d3    d4     d5    d6    d7     d8  d9  d10\n",
       "0   1   1.1  100.0   1.2   1.6    1.6   1.1   1.2    1.2   1    1\n",
       "1   2   1.4    1.4   1.4   1.5  100.0   1.4   1.2    1.2   1    1\n",
       "2   3   1.0    1.0   1.0   1.0    1.0   1.0   2.0  100.0   2    2\n",
       "3   4  20.0   20.0  20.0  20.0   20.0  20.0  20.0   20.0  20   20\n",
       "4   5   1.0    1.0   1.0   1.0    1.0   1.0   1.0    1.0   1    1"
      ]
     },
     "execution_count": 1,
     "metadata": {},
     "output_type": "execute_result"
    }
   ],
   "source": [
    "import pandas as pd\n",
    "import numpy as np\n",
    "ds = pd.DataFrame({'ID':[1,2,3,4,5],'d1':[1.1,1.4,1,20,1],'d2':[100,1.4,1,20,1],'d3':[1.2,1.4,1,20,1]\n",
    "                         ,'d4':[1.6,1.5,1,20,1],'d5':[1.6,100,1,20,1],'d6':[1.1,1.4,1,20,1],'d7':[1.2,1.2,2,20,1],\n",
    "                         'd8':[1.2,1.2,100,20,1],'d9':[1,1,2,20,1],'d10':[1,1,2,20,1]})\n",
    "ds"
   ]
  },
  {
   "cell_type": "markdown",
   "id": "cognitive-sweet",
   "metadata": {},
   "source": [
    "Drop Useless Column & change DataFrame type to numpy array"
   ]
  },
  {
   "cell_type": "code",
   "execution_count": 2,
   "id": "based-governor",
   "metadata": {},
   "outputs": [],
   "source": [
    "ds = ds.drop('ID', 1)\n",
    "ds = ds.values"
   ]
  },
  {
   "cell_type": "markdown",
   "id": "ultimate-resolution",
   "metadata": {},
   "source": [
    "Normalization (To obtain a reasonable computational accuracy, make sure the dataset has been normalized)"
   ]
  },
  {
   "cell_type": "code",
   "execution_count": 3,
   "id": "artificial-conference",
   "metadata": {},
   "outputs": [],
   "source": [
    "# Find min and max values for each column (min-max)\n",
    "def MinMaxValues(x):\n",
    "    min_max_values = list()\n",
    "    for i in range(len(x[0])):\n",
    "        col = [row[i] for row in x]\n",
    "        value_min = min(col)\n",
    "        value_max = max(col)\n",
    "        min_max_values.append([value_min, value_max])\n",
    "    return min_max_values\n",
    " \n",
    "# Rescale dataset columns to the range 0-1\n",
    "def normalize_dataset(x, y):\n",
    "    for row in x:\n",
    "        for i in range(len(row)):\n",
    "            row[i] = (row[i] - y[i][0]) / (y[i][1] - y[i][0])\n",
    "\n",
    "\n",
    "scaled_feature = MinMaxValues(ds)\n",
    "normalize_dataset(ds, scaled_feature)"
   ]
  },
  {
   "cell_type": "markdown",
   "id": "rubber-excitement",
   "metadata": {},
   "source": [
    "Define train and test"
   ]
  },
  {
   "cell_type": "code",
   "execution_count": 4,
   "id": "billion-moscow",
   "metadata": {},
   "outputs": [],
   "source": [
    "train = ds[:-1,:]\n",
    "test = ds[-1:,:]"
   ]
  },
  {
   "cell_type": "markdown",
   "id": "circular-sweden",
   "metadata": {},
   "source": [
    "Train (object that needs to be found to find the most similar value to the query object)"
   ]
  },
  {
   "cell_type": "markdown",
   "id": "heard-unknown",
   "metadata": {},
   "source": [
    "Test (Object Query) which will be the target to find the most similar value to query object"
   ]
  },
  {
   "cell_type": "code",
   "execution_count": 5,
   "id": "indirect-manufacturer",
   "metadata": {},
   "outputs": [
    {
     "data": {
      "text/plain": [
       "(1, 10)"
      ]
     },
     "execution_count": 5,
     "metadata": {},
     "output_type": "execute_result"
    }
   ],
   "source": [
    "test.shape"
   ]
  },
  {
   "cell_type": "markdown",
   "id": "bright-fever",
   "metadata": {},
   "source": [
    "I need to reshape the test because it's two dimension array, need to change its dimension"
   ]
  },
  {
   "cell_type": "code",
   "execution_count": 6,
   "id": "express-tattoo",
   "metadata": {},
   "outputs": [],
   "source": [
    "test=test.reshape(-1)"
   ]
  },
  {
   "cell_type": "code",
   "execution_count": 7,
   "id": "aquatic-disabled",
   "metadata": {},
   "outputs": [
    {
     "data": {
      "text/plain": [
       "array([0., 0., 0., 0., 0., 0., 0., 0., 0., 0.])"
      ]
     },
     "execution_count": 7,
     "metadata": {},
     "output_type": "execute_result"
    }
   ],
   "source": [
    "test"
   ]
  },
  {
   "cell_type": "markdown",
   "id": "competitive-brush",
   "metadata": {},
   "source": [
    "The similarity is calculated based on Euclidean distance metric and k-NN (k-Nearest Neighbour) algorithm, find \n",
    "the most similar object with the object query."
   ]
  },
  {
   "cell_type": "markdown",
   "id": "increased-communications",
   "metadata": {},
   "source": [
    "The euclidean distance gained from this formula: $Ed = \\sqrt{\\sum_{i=1}^n(x_{i}-y_{i})^2}$"
   ]
  },
  {
   "cell_type": "markdown",
   "id": "linear-howard",
   "metadata": {},
   "source": [
    "Where $x_{i}$ = training point, and $y_{i}$ = testing point"
   ]
  },
  {
   "cell_type": "markdown",
   "id": "turned-investment",
   "metadata": {},
   "source": [
    "As example for the first object (dataset ID 1) euclidean distance can be written as:"
   ]
  },
  {
   "cell_type": "markdown",
   "id": "extensive-communist",
   "metadata": {},
   "source": [
    "$Ed_{1} = \\sqrt{(0.005263-0.0)^2+(1.000000-0.0)^2+(0.010526-0.0)^2+(0.031579-0.0)^2+(0.006061-0.0)^2\\\\+(0.005263-0.0)^2+(0.010526-0.0)^2+(0.002020-0.0)^2+(0.000000-0.0)^2+(0.000000-0.0)^2}$"
   ]
  },
  {
   "cell_type": "markdown",
   "id": "charged-sample",
   "metadata": {},
   "source": [
    "$Ed_{1} = \\sqrt{(0.005263)^2+(1.000000)^2+(0.010526)^2+(0.031579)^2+(0.006061)^2\\\\+(0.005263)^2+(0.010526)^2+(0.002020)^2+(0.000000)^2+(0.000000)^2}$"
   ]
  },
  {
   "cell_type": "markdown",
   "id": "automatic-iraqi",
   "metadata": {},
   "source": [
    "$Ed_{1} = 1.00065731$"
   ]
  },
  {
   "cell_type": "markdown",
   "id": "consecutive-rugby",
   "metadata": {},
   "source": [
    "Here's the euclidean_distance code from scratch"
   ]
  },
  {
   "cell_type": "code",
   "execution_count": 8,
   "id": "southern-relations",
   "metadata": {},
   "outputs": [
    {
     "data": {
      "text/plain": [
       "[1.000657309166915, 1.001076106032869, 1.0041465278073112, 2.666551879990477]"
      ]
     },
     "execution_count": 8,
     "metadata": {},
     "output_type": "execute_result"
    }
   ],
   "source": [
    "from math import sqrt\n",
    "\n",
    "def euclidean_distance(x,y):\n",
    "    ED=0\n",
    "    for i in range(len(x)): #every data in its row\n",
    "        ED += (x[i]-y[i])**2 #formula give in description above\n",
    "    return sqrt(ED)\n",
    "\n",
    "distance_each_object=[]\n",
    "for i in range (4): #for each row in train set\n",
    "    distance=euclidean_distance(train[i],test)\n",
    "    distance_each_object.append(distance)\n",
    "distance_each_object"
   ]
  },
  {
   "cell_type": "markdown",
   "id": "dangerous-variety",
   "metadata": {},
   "source": [
    "And here's the output of the euclidean distance for each object/dataset given\n",
    "\n",
    "We can see that the most similar object with the object query (1,1,1,1,1,1,1,1,1,1) / test set is the <b>1st dataset (dataset ID 1)</b>, which has the smallest distance compared to others. \n",
    "\n",
    "So, the smaller distance from the object and object query, give the similar result to the object query. And this <b>(dataset ID 1) is the best \"k\" for the training </b>"
   ]
  },
  {
   "cell_type": "markdown",
   "id": "social-specification",
   "metadata": {},
   "source": [
    "<b>*Note:</b> the problem given is not clear enough, it is said that to obtain reasonable accuracy, and find the most suitable \"k\". However, from the data provided, we cannot classify the data and cannot find the accuracy or the best k needed for the model, because the dataset is not labeled (not supervised), and there's no data for testing, so the accuracy of the model cannot be determined properly. I'm sure that $\"k\"$ in here's the parameter which stands for how much closest training data to the given test data need to be considered to classify the testing data. But still here's no testing data and label to determine it. So the instruction can be worked only to get the euclidean distance "
   ]
  },
  {
   "cell_type": "markdown",
   "id": "entertaining-metro",
   "metadata": {},
   "source": [
    "<h3>2. Given datasets (UAS_ML2021_DATASET01.csv), determine weight W’s\n",
    "and bias b of the corresponding SVM linear discriminant function f(X) = WT\n",
    ". X + b using hand calculation. You may need to modify the label/target values from 1 and 0 become 1 and -1. To \n",
    "confirm whether your calculation result is correct, you may run the corresponding SVM library \n",
    "provided by python (write the code in python notebook please)."
   ]
  },
  {
   "cell_type": "markdown",
   "id": "portable-london",
   "metadata": {},
   "source": [
    "Import dataset"
   ]
  },
  {
   "cell_type": "code",
   "execution_count": 9,
   "id": "plastic-gathering",
   "metadata": {},
   "outputs": [
    {
     "data": {
      "text/html": [
       "<div>\n",
       "<style scoped>\n",
       "    .dataframe tbody tr th:only-of-type {\n",
       "        vertical-align: middle;\n",
       "    }\n",
       "\n",
       "    .dataframe tbody tr th {\n",
       "        vertical-align: top;\n",
       "    }\n",
       "\n",
       "    .dataframe thead th {\n",
       "        text-align: right;\n",
       "    }\n",
       "</style>\n",
       "<table border=\"1\" class=\"dataframe\">\n",
       "  <thead>\n",
       "    <tr style=\"text-align: right;\">\n",
       "      <th></th>\n",
       "      <th>Attrib_01</th>\n",
       "      <th>Attrib_02</th>\n",
       "      <th>Label</th>\n",
       "    </tr>\n",
       "  </thead>\n",
       "  <tbody>\n",
       "    <tr>\n",
       "      <th>0</th>\n",
       "      <td>-2.264542</td>\n",
       "      <td>-0.505704</td>\n",
       "      <td>1</td>\n",
       "    </tr>\n",
       "    <tr>\n",
       "      <th>1</th>\n",
       "      <td>-2.086426</td>\n",
       "      <td>0.655405</td>\n",
       "      <td>1</td>\n",
       "    </tr>\n",
       "    <tr>\n",
       "      <th>2</th>\n",
       "      <td>-2.367950</td>\n",
       "      <td>0.318477</td>\n",
       "      <td>1</td>\n",
       "    </tr>\n",
       "    <tr>\n",
       "      <th>3</th>\n",
       "      <td>-2.304197</td>\n",
       "      <td>0.575368</td>\n",
       "      <td>1</td>\n",
       "    </tr>\n",
       "    <tr>\n",
       "      <th>4</th>\n",
       "      <td>-2.388777</td>\n",
       "      <td>-0.674767</td>\n",
       "      <td>1</td>\n",
       "    </tr>\n",
       "    <tr>\n",
       "      <th>...</th>\n",
       "      <td>...</td>\n",
       "      <td>...</td>\n",
       "      <td>...</td>\n",
       "    </tr>\n",
       "    <tr>\n",
       "      <th>145</th>\n",
       "      <td>1.870522</td>\n",
       "      <td>-0.382822</td>\n",
       "      <td>0</td>\n",
       "    </tr>\n",
       "    <tr>\n",
       "      <th>146</th>\n",
       "      <td>1.558492</td>\n",
       "      <td>0.905314</td>\n",
       "      <td>0</td>\n",
       "    </tr>\n",
       "    <tr>\n",
       "      <th>147</th>\n",
       "      <td>1.520845</td>\n",
       "      <td>-0.266795</td>\n",
       "      <td>0</td>\n",
       "    </tr>\n",
       "    <tr>\n",
       "      <th>148</th>\n",
       "      <td>1.376391</td>\n",
       "      <td>-1.016362</td>\n",
       "      <td>0</td>\n",
       "    </tr>\n",
       "    <tr>\n",
       "      <th>149</th>\n",
       "      <td>0.959299</td>\n",
       "      <td>0.022284</td>\n",
       "      <td>0</td>\n",
       "    </tr>\n",
       "  </tbody>\n",
       "</table>\n",
       "<p>150 rows × 3 columns</p>\n",
       "</div>"
      ],
      "text/plain": [
       "     Attrib_01  Attrib_02  Label\n",
       "0    -2.264542  -0.505704      1\n",
       "1    -2.086426   0.655405      1\n",
       "2    -2.367950   0.318477      1\n",
       "3    -2.304197   0.575368      1\n",
       "4    -2.388777  -0.674767      1\n",
       "..         ...        ...    ...\n",
       "145   1.870522  -0.382822      0\n",
       "146   1.558492   0.905314      0\n",
       "147   1.520845  -0.266795      0\n",
       "148   1.376391  -1.016362      0\n",
       "149   0.959299   0.022284      0\n",
       "\n",
       "[150 rows x 3 columns]"
      ]
     },
     "execution_count": 9,
     "metadata": {},
     "output_type": "execute_result"
    }
   ],
   "source": [
    "ds2 = pd.read_csv('datasets/UAS_ML2021_DATASET01.csv')\n",
    "ds2"
   ]
  },
  {
   "cell_type": "markdown",
   "id": "standing-socket",
   "metadata": {},
   "source": [
    "<b>SVM by hand calculation"
   ]
  },
  {
   "cell_type": "markdown",
   "id": "grateful-relay",
   "metadata": {},
   "source": [
    "The training data is linearly separable (according to instruction), so we need to separate the two classes of data to make the distance between them as large as possible. \n",
    "\n",
    "Given a formula of hyperplane $H_{0}$ which separating the dataset: \n",
    "\n",
    "<p style=\"text-align:center\">$w \\cdot x+b=0$ \n",
    "\n",
    "Now, we can select the margin / two others hyperplanes positive hyperplane $H_{1}$ and negative hyperplane $H_{2}$ which also separate the data and have the following equations:\n",
    "    \n",
    "<p style=\"text-align:center\">$w \\cdot x+b\\ge 1$ <br><br> and <br><br>$w \\cdot x+b\\le- 1$ <br><br><br>So $H_{0}$ is equidistant from $H_{1}$ and $H_{2}$.\n",
    "    \n",
    "The value should be set as 1, because both must have same value, so the 0 answer cant be used in this statement. If it's valued as 0 we cant determine which is positive and negative. So to simplify the problem, we can put it as 1. \n",
    "    \n",
    "But we want to make sure that they have no points between them. So we will only select those who meet the two following constraints:\n",
    "\n",
    "<p style=\"text-align:center\">$w \\cdot x_{i}+b\\ge1$ for $x_{i}$ having the class $1$, \n",
    "\n",
    "<p style=\"text-align:center\">and\n",
    "\n",
    "<p style=\"text-align:center\">$w \\cdot x_{i}+b\\le-1$ for $x_{i}$ having the class $-1$ "
   ]
  },
  {
   "cell_type": "markdown",
   "id": "specified-boring",
   "metadata": {},
   "source": [
    "According to that explanation, we already know about why we need to modify the label/target values from 1 and 0, to become 1 and -1. To modify this label, we can use Pandas DataFrame function which is loc function to change the value, and here's the code:"
   ]
  },
  {
   "cell_type": "code",
   "execution_count": 10,
   "id": "fifty-input",
   "metadata": {},
   "outputs": [
    {
     "data": {
      "text/html": [
       "<div>\n",
       "<style scoped>\n",
       "    .dataframe tbody tr th:only-of-type {\n",
       "        vertical-align: middle;\n",
       "    }\n",
       "\n",
       "    .dataframe tbody tr th {\n",
       "        vertical-align: top;\n",
       "    }\n",
       "\n",
       "    .dataframe thead th {\n",
       "        text-align: right;\n",
       "    }\n",
       "</style>\n",
       "<table border=\"1\" class=\"dataframe\">\n",
       "  <thead>\n",
       "    <tr style=\"text-align: right;\">\n",
       "      <th></th>\n",
       "      <th>x1</th>\n",
       "      <th>x2</th>\n",
       "      <th>Label</th>\n",
       "    </tr>\n",
       "  </thead>\n",
       "  <tbody>\n",
       "    <tr>\n",
       "      <th>0</th>\n",
       "      <td>-2.264542</td>\n",
       "      <td>-0.505704</td>\n",
       "      <td>1</td>\n",
       "    </tr>\n",
       "    <tr>\n",
       "      <th>1</th>\n",
       "      <td>-2.086426</td>\n",
       "      <td>0.655405</td>\n",
       "      <td>1</td>\n",
       "    </tr>\n",
       "    <tr>\n",
       "      <th>2</th>\n",
       "      <td>-2.367950</td>\n",
       "      <td>0.318477</td>\n",
       "      <td>1</td>\n",
       "    </tr>\n",
       "    <tr>\n",
       "      <th>3</th>\n",
       "      <td>-2.304197</td>\n",
       "      <td>0.575368</td>\n",
       "      <td>1</td>\n",
       "    </tr>\n",
       "    <tr>\n",
       "      <th>4</th>\n",
       "      <td>-2.388777</td>\n",
       "      <td>-0.674767</td>\n",
       "      <td>1</td>\n",
       "    </tr>\n",
       "    <tr>\n",
       "      <th>...</th>\n",
       "      <td>...</td>\n",
       "      <td>...</td>\n",
       "      <td>...</td>\n",
       "    </tr>\n",
       "    <tr>\n",
       "      <th>145</th>\n",
       "      <td>1.870522</td>\n",
       "      <td>-0.382822</td>\n",
       "      <td>-1</td>\n",
       "    </tr>\n",
       "    <tr>\n",
       "      <th>146</th>\n",
       "      <td>1.558492</td>\n",
       "      <td>0.905314</td>\n",
       "      <td>-1</td>\n",
       "    </tr>\n",
       "    <tr>\n",
       "      <th>147</th>\n",
       "      <td>1.520845</td>\n",
       "      <td>-0.266795</td>\n",
       "      <td>-1</td>\n",
       "    </tr>\n",
       "    <tr>\n",
       "      <th>148</th>\n",
       "      <td>1.376391</td>\n",
       "      <td>-1.016362</td>\n",
       "      <td>-1</td>\n",
       "    </tr>\n",
       "    <tr>\n",
       "      <th>149</th>\n",
       "      <td>0.959299</td>\n",
       "      <td>0.022284</td>\n",
       "      <td>-1</td>\n",
       "    </tr>\n",
       "  </tbody>\n",
       "</table>\n",
       "<p>150 rows × 3 columns</p>\n",
       "</div>"
      ],
      "text/plain": [
       "           x1        x2  Label\n",
       "0   -2.264542 -0.505704      1\n",
       "1   -2.086426  0.655405      1\n",
       "2   -2.367950  0.318477      1\n",
       "3   -2.304197  0.575368      1\n",
       "4   -2.388777 -0.674767      1\n",
       "..        ...       ...    ...\n",
       "145  1.870522 -0.382822     -1\n",
       "146  1.558492  0.905314     -1\n",
       "147  1.520845 -0.266795     -1\n",
       "148  1.376391 -1.016362     -1\n",
       "149  0.959299  0.022284     -1\n",
       "\n",
       "[150 rows x 3 columns]"
      ]
     },
     "execution_count": 10,
     "metadata": {},
     "output_type": "execute_result"
    }
   ],
   "source": [
    "ds2.loc[ds2['Label'] == 0, 'Label'] = -1\n",
    "ds2.columns = ['x1', 'x2','Label']\n",
    "ds2"
   ]
  },
  {
   "cell_type": "markdown",
   "id": "practical-myanmar",
   "metadata": {},
   "source": [
    "As we can see here, the data have float type, because we will do hand calculation analysis on this dataset, we can round it to 2 digit after comma (this round affect the calculation little bit, but will make us easier to calculate it), here's the code"
   ]
  },
  {
   "cell_type": "code",
   "execution_count": 11,
   "id": "functional-account",
   "metadata": {},
   "outputs": [],
   "source": [
    "ds2=ds2.round(2)"
   ]
  },
  {
   "cell_type": "markdown",
   "id": "concrete-watch",
   "metadata": {},
   "source": [
    "After round the value, we can input the dataset into the formula described above, as example:\n",
    "\n",
    "$w_{1} \\cdot x_{1}+w_{2} \\cdot x_{2}+b\\ge1$\n",
    "\n",
    "$w_{1} \\cdot -2.26+w_{2} \\cdot -0.51+b\\ge1$\n",
    "\n",
    "$-2.26 w_{1} +-0.51 w_{2}+b\\ge1$ (Example: 1st data)"
   ]
  },
  {
   "cell_type": "markdown",
   "id": "sapphire-rider",
   "metadata": {},
   "source": [
    "Now, we can take a look for the data point to analyticaly hand-calculating the SVM process"
   ]
  },
  {
   "cell_type": "code",
   "execution_count": 12,
   "id": "hairy-child",
   "metadata": {},
   "outputs": [
    {
     "data": {
      "image/png": "[encoded data removed]",
      "text/plain": [
       "<Figure size 720x720 with 1 Axes>"
      ]
     },
     "metadata": {
      "needs_background": "light"
     },
     "output_type": "display_data"
    }
   ],
   "source": [
    "import matplotlib.pyplot as plt\n",
    "plt.figure(figsize=(10,10))\n",
    "plt.scatter(ds2.iloc[:,0],ds2.iloc[:,1],c=ds2['Label'])\n",
    "plt.scatter(ds2.iloc[23,0],ds2.iloc[23,1],c='blue') #The support vector\n",
    "plt.scatter(ds2.iloc[41,0],ds2.iloc[41,1],c='blue') #The support vector\n",
    "plt.scatter(ds2.iloc[57,0],ds2.iloc[57,1],c='blue') #The support vector\n",
    "plt.scatter(ds2.iloc[98,0],ds2.iloc[98,1],c='blue') #The support vector\n",
    "for i in range(ds2.shape[0]):\n",
    "    plt.text(ds2.iloc[i,0],ds2.iloc[i,1], str(i))"
   ]
  },
  {
   "cell_type": "markdown",
   "id": "august-continent",
   "metadata": {},
   "source": [
    "To make sure the support vector is right, we can plot the margin"
   ]
  },
  {
   "cell_type": "code",
   "execution_count": 13,
   "id": "divided-constraint",
   "metadata": {},
   "outputs": [
    {
     "name": "stdout",
     "output_type": "stream",
     "text": [
      "-1.82 -0.11\n",
      "-1.87 2.33\n",
      "-0.5 1.85\n",
      "-0.46 1.54\n"
     ]
    }
   ],
   "source": [
    "print(ds2.iloc[23,0],ds2.iloc[23,1])\n",
    "print(ds2.iloc[41,0],ds2.iloc[41,1])\n",
    "print(ds2.iloc[57,0],ds2.iloc[57,1])\n",
    "print(ds2.iloc[98,0],ds2.iloc[98,1])"
   ]
  },
  {
   "cell_type": "code",
   "execution_count": 14,
   "id": "progressive-schedule",
   "metadata": {},
   "outputs": [
    {
     "data": {
      "image/png": "[encoded data removed]",
      "text/plain": [
       "<Figure size 576x576 with 1 Axes>"
      ]
     },
     "metadata": {
      "needs_background": "light"
     },
     "output_type": "display_data"
    }
   ],
   "source": [
    "x2,y2 = [-1.82,-1.87],[-0.11,2.33]\n",
    "x3,y3 = [-0.5,-0.46],[1.85,1.54]\n",
    "\n",
    "import matplotlib.pyplot as plt\n",
    "plt.figure(figsize=(8,8))\n",
    "plt.scatter(ds2.iloc[:,0],ds2.iloc[:,1],c=ds2['Label'])\n",
    "plt.scatter(ds2.iloc[23,0],ds2.iloc[23,1]) #Support Vector\n",
    "plt.scatter(ds2.iloc[41,0],ds2.iloc[41,1]) #Support Vector\n",
    "plt.scatter(ds2.iloc[57,0],ds2.iloc[57,1]) #Support Vector\n",
    "plt.scatter(ds2.iloc[98,0],ds2.iloc[98,1]) #Support Vector\n",
    "plt.plot(x2, y2, marker = 'o',c='green')\n",
    "plt.plot(x3, y3, marker = 'o',c='blue')\n",
    "plt.show()"
   ]
  },
  {
   "cell_type": "markdown",
   "id": "human-ghost",
   "metadata": {},
   "source": [
    "As we can see, the data contain 150 points of data, and as shown is linearly separable, but we does only need to have 4 points from the image above, this 4 points called as support vector, we need to analyticaly determine the support vector, which is the the outermost point of each label which is point 23, 41, 85, 98. (The support vector colored as red)"
   ]
  },
  {
   "cell_type": "markdown",
   "id": "wanted-uniform",
   "metadata": {},
   "source": [
    "As I mentioned in the previous section, that the dataset will be calculated with the formula above. After input the $x1$ and $x2$ from dataset to formula, We can define this 4 point become like this."
   ]
  },
  {
   "cell_type": "markdown",
   "id": "legitimate-diary",
   "metadata": {},
   "source": [
    "$-1.82 w_{1} +-0.11 w_{2}+b\\ge1$ (point 23)\n",
    "\n",
    "$-1.87 w_{1} +2.33 w_{2}+b\\ge1$ (point 41)\n",
    "\n",
    "$ 0.43 w_{1} -0.86 w_{2}+b\\le-1$ (point 85)\n",
    "\n",
    "$-0.50 w_{1} +1.85 w_{2}+b\\le-1$ (point 57)"
   ]
  },
  {
   "cell_type": "markdown",
   "id": "silent-premises",
   "metadata": {},
   "source": [
    "So from these equation, we can use linear equation to find each $w1$,$w2$ and $b$"
   ]
  },
  {
   "cell_type": "markdown",
   "id": "infrared-claim",
   "metadata": {},
   "source": [
    "I) Point 23 & 41"
   ]
  },
  {
   "cell_type": "markdown",
   "id": "serious-photographer",
   "metadata": {},
   "source": [
    "$-1.82 w_{1} - 0.11 w_{2}+b\\ge1  (\\times 1.87)\\to -3.4034 w_{1} -0.2057 w_{2} + 1.87 b=1.87 \\\\-1.87 w_{1} +2.33 w_{2}+b\\ge1 (\\times -1.82)\\to 3.4034 w_{1} -4.2406 w_{2} - 1.82 b=-1.82 $\n",
    "\n",
    "<p style='margin-left:280px'>$\\rule{7cm}{0.5pt}$ +\n",
    "\n",
    "<p style='margin-left:370px'>$-4.4463 w_{2} + 0.05 b=0.05 $"
   ]
  },
  {
   "cell_type": "markdown",
   "id": "individual-retreat",
   "metadata": {},
   "source": [
    "II) Point 85 & 57"
   ]
  },
  {
   "cell_type": "markdown",
   "id": "israeli-dominican",
   "metadata": {},
   "source": [
    "$ 0.43 w_{1} −0.86 w_{2}+b\\le-1  (\\times 0.50)\\to 0.215 w_{1} -0.43 w_{2} + 0.50 b=-0.50\\\\-0.50 w_{1} +1.85 w_{2}+b\\le-1 (\\times 0.43)\\to -0.215 w_{1} +0.7955 w_{2} + 0.43 b=-0.43 $\n",
    "\n",
    "<p style='margin-left:280px'>$\\rule{7cm}{0.5pt}$ +\n",
    "\n",
    "<p style='margin-left:370px'>$0.3655 w_{2} + 0.93 b=-0.93 $"
   ]
  },
  {
   "cell_type": "markdown",
   "id": "superb-shelf",
   "metadata": {},
   "source": [
    "III) Result of (I) and (II)"
   ]
  },
  {
   "cell_type": "markdown",
   "id": "balanced-cotton",
   "metadata": {},
   "source": [
    "$-4.4463 w_{2} + 0.05 b=0.05 (\\times 0.93)\\to -4.135059 w_{2}+0.0465 b=0.0465\\\\ 0.3655 w_{2} + 0.93 b=-0.93(\\times -0.05)\\to -0.018275 w_{2}-0.0465 b=0.0465 $\n",
    "\n",
    "<p style='margin-left:280px'>$\\rule{7cm}{0.5pt}$ +\n",
    "\n",
    "<p style='margin-left:370px'>$-4.153334 w_{2} =0.093 $\n",
    "    \n",
    "<p style='margin-left:370px'>$w_{2} =\\dfrac{0.093}{-4.153334} = -0.0223916497 \\approx -0.0224$"
   ]
  },
  {
   "cell_type": "markdown",
   "id": "weighted-brisbane",
   "metadata": {},
   "source": [
    "We have already found the $w_{2}$ which the value is $\\approx -0.0224$, now we need to find the other parameter, here's the calculation to find $b$ :"
   ]
  },
  {
   "cell_type": "markdown",
   "id": "unavailable-shareware",
   "metadata": {},
   "source": [
    "Using (II)"
   ]
  },
  {
   "cell_type": "markdown",
   "id": "banner-belfast",
   "metadata": {},
   "source": [
    "$0.3655 w_{2} + 0.93 b=-0.93 \\\\0.3655 \\times -0.0224 + 0.93 b=-0.93\\\\-0.00819 + 0.93 b=-0.93\\\\ 0.93 b=-0.93+0.00819\\\\b=\\dfrac{-0.92181}{0.93}=-0.991$"
   ]
  },
  {
   "cell_type": "markdown",
   "id": "corporate-rotation",
   "metadata": {},
   "source": [
    "After we found the $b$ value, we need to find the $w_{1}$"
   ]
  },
  {
   "cell_type": "markdown",
   "id": "enhanced-combat",
   "metadata": {},
   "source": [
    "$-1.87 w_{1} +2.33 w_{2}+b=1\\\\-1.87 w_{1}+2.33\\times−0.0224−0.991=1\\\\-1.87w_{1}-0.052192-0.991=1\\\\-1.87w_{1}-1.043192=1\\\\-1.87w_{1}=2.043192\\\\w_{1}=\\dfrac{2.043192}{-1.87}\\approx-1.0926$"
   ]
  },
  {
   "cell_type": "markdown",
   "id": "based-omega",
   "metadata": {},
   "source": [
    "Now all the parameter have already found, we need to create the hyperplane equation for the model"
   ]
  },
  {
   "cell_type": "markdown",
   "id": "ancient-cleveland",
   "metadata": {},
   "source": [
    "hyperplane Equation:\n",
    "\n",
    "$w \\cdot x+b=0$ \n",
    "\n",
    "$w_{1} \\cdot x_{1}+w_{2} \\cdot x_{2}+b=0$ \n",
    "\n",
    "$−1.0926x1−0.0224x2−0.991=0\\\\−1.0926x1−0.0224x2=0.991$"
   ]
  },
  {
   "cell_type": "markdown",
   "id": "mature-greensboro",
   "metadata": {},
   "source": [
    "We need to plot the hyperplane, so we need the $x1,x2,y1,y2$ value to plot the line"
   ]
  },
  {
   "cell_type": "markdown",
   "id": "pacific-princeton",
   "metadata": {},
   "source": [
    "Plot x2 becase it will be the y axis for the model"
   ]
  },
  {
   "cell_type": "markdown",
   "id": "surgical-quarter",
   "metadata": {},
   "source": [
    "$if\\to x2=5$\n",
    "\n",
    "$−1.0926x1−0.0224x2=0.991$\n",
    "\n",
    "$−1.0926x1-0.112=0.991\\\\−1.0926x1=1.103\\\\x1=\\dfrac{1.103}{−1.0926}\\approx-1.0095$"
   ]
  },
  {
   "cell_type": "markdown",
   "id": "standard-auction",
   "metadata": {},
   "source": [
    "$if\\to x2=-5$\n",
    "\n",
    "$−1.0926x1−0.0224x2=0.991$\n",
    "\n",
    "$−1.0926x1+0.112=0.991\\\\−1.0926x1=0.879\\\\x1=\\dfrac{0.879}{−1.0926}\\approx-0.8045$"
   ]
  },
  {
   "cell_type": "markdown",
   "id": "reduced-behalf",
   "metadata": {},
   "source": [
    "Now, we already get the value to plot in our figure, so plot the value above with our scatter before, to define our hyperplane"
   ]
  },
  {
   "cell_type": "code",
   "execution_count": 15,
   "id": "assisted-ordering",
   "metadata": {},
   "outputs": [
    {
     "data": {
      "image/png": "[encoded data removed]",
      "text/plain": [
       "<Figure size 576x576 with 1 Axes>"
      ]
     },
     "metadata": {
      "needs_background": "light"
     },
     "output_type": "display_data"
    }
   ],
   "source": [
    "x1, y1 = [ -1.0095, -0.8045], [5, -5]\n",
    "x2,y2 = [-1.82,-1.87],[-0.11,2.33]\n",
    "x3,y3 = [-0.5,-0.46],[1.85,1.54]\n",
    "\n",
    "import matplotlib.pyplot as plt\n",
    "plt.figure(figsize=(8,8))\n",
    "plt.scatter(ds2.iloc[:,0],ds2.iloc[:,1],c=ds2['Label'])\n",
    "plt.scatter(ds2.iloc[23,0],ds2.iloc[23,1],c='blue') #Support Vector\n",
    "plt.scatter(ds2.iloc[41,0],ds2.iloc[41,1],c='blue') #Support Vector\n",
    "plt.scatter(ds2.iloc[57,0],ds2.iloc[57,1],c='blue') #Support Vector\n",
    "plt.scatter(ds2.iloc[98,0],ds2.iloc[98,1],c='blue') #Support Vector\n",
    "plt.plot(x1, y1, marker = 'o',c='red')\n",
    "plt.plot(x2, y2, marker = 'o',c='green')\n",
    "plt.plot(x3, y3, marker = 'o',c='blue')\n",
    "plt.show()"
   ]
  },
  {
   "cell_type": "markdown",
   "id": "modified-product",
   "metadata": {},
   "source": [
    "<b>Now To confirm whether the calculation result is correct, we will call the library to compare it"
   ]
  },
  {
   "cell_type": "markdown",
   "id": "suited-storm",
   "metadata": {},
   "source": [
    "First we need to define the feature and target/label"
   ]
  },
  {
   "cell_type": "code",
   "execution_count": 16,
   "id": "continent-center",
   "metadata": {},
   "outputs": [],
   "source": [
    "feature=ds2.iloc[:,:-1]\n",
    "target=ds2.iloc[:,2]"
   ]
  },
  {
   "cell_type": "markdown",
   "id": "surgical-youth",
   "metadata": {},
   "source": [
    "Now we need to plot the model based on SVM library, here's the plot"
   ]
  },
  {
   "cell_type": "code",
   "execution_count": 17,
   "id": "sweet-brighton",
   "metadata": {
    "scrolled": true
   },
   "outputs": [
    {
     "data": {
      "image/png": "[encoded data removed]",
      "text/plain": [
       "<Figure size 432x288 with 1 Axes>"
      ]
     },
     "metadata": {},
     "output_type": "display_data"
    }
   ],
   "source": [
    "from sklearn.svm import SVC\n",
    "clf = SVC(kernel='linear').fit(feature, target)\n",
    "\n",
    "def make_meshgrid(x, y, h=.02):\n",
    "    x_min, x_max = x.min() - 1, x.max() + 1\n",
    "    y_min, y_max = y.min() - 1, y.max() + 1\n",
    "    xx, yy = np.meshgrid(np.arange(x_min, x_max, h), np.arange(y_min, y_max, h))\n",
    "    return xx, yy\n",
    "\n",
    "def plot_contours(ax, clf, xx, yy, **params):\n",
    "    Z = clf.predict(np.c_[xx.ravel(), yy.ravel()])\n",
    "    Z = Z.reshape(xx.shape)\n",
    "    out = ax.contourf(xx, yy, Z, **params)\n",
    "    return out\n",
    "\n",
    "fig, ax = plt.subplots()\n",
    "\n",
    "title = ('LinearSVM')\n",
    "\n",
    "X0, X1 = feature.iloc[:, 0], feature.iloc[:, 1]\n",
    "xx, yy = make_meshgrid(X0, X1)\n",
    "\n",
    "support_vectors = clf.support_vectors_\n",
    "plot_contours(ax, clf, xx, yy, cmap=plt.cm.coolwarm, alpha=0.8)\n",
    "ax.scatter(X0, X1, c=target, cmap=plt.cm.coolwarm, s=20, edgecolors='k')\n",
    "plt.scatter(support_vectors[:,0], support_vectors[:,1], color='red')\n",
    "ax.set_ylabel('x2')\n",
    "ax.set_xlabel('x1')\n",
    "ax.set_xticks(())\n",
    "ax.set_yticks(())\n",
    "ax.set_title(title)\n",
    "plt.show()"
   ]
  },
  {
   "cell_type": "markdown",
   "id": "immune-bunch",
   "metadata": {},
   "source": [
    "As we can see, the result from hand calculation and from sklearn library seems give same result, but the hyperplane of the hand calculation are rounded up on the calculation, and make it become little bit miss."
   ]
  },
  {
   "cell_type": "markdown",
   "id": "handed-discrimination",
   "metadata": {},
   "source": [
    "<h3>3. Given 2D datasets (UAS_ML2021_DATASET02.csv) and assuming you do \n",
    "understand the concept of unsupervised learning, please carry out the below tasks as thorough \n",
    "as possible"
   ]
  },
  {
   "cell_type": "markdown",
   "id": "relative-camel",
   "metadata": {},
   "source": [
    "Import Dataset"
   ]
  },
  {
   "cell_type": "code",
   "execution_count": 18,
   "id": "altered-forwarding",
   "metadata": {},
   "outputs": [],
   "source": [
    "#load data\n",
    "ds3 = pd.read_csv('datasets/UAS_ML2021_DATASET02.csv').values"
   ]
  },
  {
   "cell_type": "markdown",
   "id": "saved-newcastle",
   "metadata": {},
   "source": [
    "Normalization"
   ]
  },
  {
   "cell_type": "code",
   "execution_count": 19,
   "id": "bacterial-rocket",
   "metadata": {},
   "outputs": [],
   "source": [
    "#using number 1 normalizattion function\n",
    "scaled_feature = MinMaxValues(ds3)\n",
    "normalize_dataset(ds3, scaled_feature)"
   ]
  },
  {
   "cell_type": "markdown",
   "id": "supreme-latvia",
   "metadata": {},
   "source": [
    "Here's the full code for the GMM, written using class just to make it easily called later."
   ]
  },
  {
   "cell_type": "markdown",
   "id": "standard-smooth",
   "metadata": {},
   "source": [
    "<b>B. After initializing means, covariance matrix, and phi, demonstrate how \n",
    "to calculate responsibilities/weights using E-step of the GMM algorithm and the \n",
    "associated log-likelihood"
   ]
  },
  {
   "cell_type": "markdown",
   "id": "caroline-wyoming",
   "metadata": {},
   "source": [
    "The initialized parameter which is means, covariance and phi have its own function.\n",
    "\n",
    "- Means or $\\mu_{i}$ : Mixture component means\n",
    "- Covariance or $\\Sigma_{i}$ : Mixture component covariance matrices\n",
    "- Phi or $\\pi$ : Weights of mixture components"
   ]
  },
  {
   "cell_type": "markdown",
   "id": "vocational-comedy",
   "metadata": {},
   "source": [
    "<b>E-Step</b>\n",
    "\n",
    "We can write the Gaussian Mixture distribution as a combination of Gaussians with weights equal to $\\pi$ as below. Where K is the number of Gaussians we want to model.\n",
    "\n",
    "![formula](./formula.png)\n",
    "\n",
    "The results from the formula above will be calculated into the posterior distribution using the formula below. This equation work as Bayes rule where $\\pi$ is the prior weights and the likelihood is normal.\n",
    "\n",
    "![formula](./formula2.png)"
   ]
  },
  {
   "cell_type": "markdown",
   "id": "parallel-cholesterol",
   "metadata": {},
   "source": [
    "<b>C.) Using M-step of the GMM algorithm, now update the values of means, covariance \n",
    "and phi of each cluster "
   ]
  },
  {
   "cell_type": "markdown",
   "id": "expected-salmon",
   "metadata": {},
   "source": [
    "After calculating the posterior in E-step, we need to estimate the parameters of each Gaussian using below formula, and evaluate the log-likelihood. These two steps will be repeated until we met convergence (can be seen when the loss function not change)."
   ]
  },
  {
   "cell_type": "markdown",
   "id": "confused-petroleum",
   "metadata": {},
   "source": [
    "<b>Means Formula:"
   ]
  },
  {
   "cell_type": "markdown",
   "id": "fiscal-breakfast",
   "metadata": {},
   "source": [
    "![formula](formula3.png)"
   ]
  },
  {
   "cell_type": "markdown",
   "id": "universal-expansion",
   "metadata": {},
   "source": [
    "<b>Covariance Formula:"
   ]
  },
  {
   "cell_type": "markdown",
   "id": "political-difficulty",
   "metadata": {},
   "source": [
    "![formula](formula4.png)"
   ]
  },
  {
   "cell_type": "markdown",
   "id": "challenging-manufacturer",
   "metadata": {},
   "source": [
    "<b>Phi / weight Formula:"
   ]
  },
  {
   "cell_type": "markdown",
   "id": "suffering-heather",
   "metadata": {},
   "source": [
    "![formula](formula5.png)"
   ]
  },
  {
   "cell_type": "markdown",
   "id": "aboriginal-least",
   "metadata": {},
   "source": [
    "<b>Marginal Likelihood (should maximize)"
   ]
  },
  {
   "cell_type": "markdown",
   "id": "cleared-combination",
   "metadata": {},
   "source": [
    "![formula](formula6.png)"
   ]
  },
  {
   "cell_type": "markdown",
   "id": "immediate-marker",
   "metadata": {},
   "source": [
    "<b>D.) Go back to B, calculate new responsibilities/weights and new log-likelihood. Check \n",
    "if there is any convergence (loss function doesn't change) of the log-likelihood values."
   ]
  },
  {
   "cell_type": "markdown",
   "id": "healthy-following",
   "metadata": {},
   "source": [
    "The E-step and M-step will be repeated according to our itteration, until we found convergence. The convergence will be gained if the loss function doesn't change anymore. "
   ]
  },
  {
   "cell_type": "code",
   "execution_count": 20,
   "id": "frozen-occasion",
   "metadata": {},
   "outputs": [],
   "source": [
    "from scipy.stats import multivariate_normal as mvn\n",
    "from sklearn.cluster import KMeans\n",
    "from matplotlib.patches import Ellipse\n",
    "    \n",
    "class GMM:\n",
    "    def __init__(self, C, iteration):\n",
    "        self.C = C # number of Guassians/clusters\n",
    "        self.iteration = iteration\n",
    "        \n",
    "    def get_params(self):\n",
    "        return (self.means, self.pi, self.covariance)\n",
    "    \n",
    "    def calc_mean_cov(self, X, prediction):#3b. Initialize parameter\n",
    "      \n",
    "        d = X.shape[1]\n",
    "        labels = np.unique(prediction)\n",
    "        \n",
    "        #initializing means, covariance, and phi\n",
    "        self.initial_means = np.zeros((self.C, d))\n",
    "        self.initial_cov = np.zeros((self.C, d, d))\n",
    "        self.initial_pi = np.zeros(self.C)\n",
    "        \n",
    "        counter=0\n",
    "        for label in labels:\n",
    "            ids = np.where(prediction == label) \n",
    "            self.initial_pi[counter] = len(ids[0]) / X.shape[0]\n",
    "            self.initial_means[counter,:] = np.mean(X[ids], axis = 0)\n",
    "            de_meaned = X[ids] - self.initial_means[counter,:]\n",
    "            Nk = X[ids].shape[0] # number of data points \n",
    "            self.initial_cov[counter,:, :] = np.dot(self.initial_pi[counter] * de_meaned.T, de_meaned) / Nk\n",
    "            counter+=1\n",
    "        assert np.sum(self.initial_pi) == 1    \n",
    "            \n",
    "        return (self.initial_means, self.initial_cov, self.initial_pi)\n",
    "      \n",
    "    def _initialise_parameters(self, X): #3b. Initialize parameter\n",
    "       \n",
    "        n_clusters = self.C\n",
    "        kmeans = KMeans(n_clusters= n_clusters, init=\"k-means++\", max_iter=500, algorithm = 'auto')\n",
    "        fitted = kmeans.fit(X)\n",
    "        prediction = kmeans.predict(X)\n",
    "        self._initial_means, self._initial_cov, self._initial_pi = self.calc_mean_cov(X, prediction)\n",
    "            \n",
    "        return (self._initial_means, self._initial_cov, self._initial_pi)\n",
    "     \n",
    "        \n",
    "    #demonstrate how to calculate responsibilities/weights using E-step of the GMM algorithm and the \n",
    "    #associated log-likelihood\n",
    "    \n",
    "    #3B.) how to calculate responsibilities/weights using E-step of the GMM algorithm and the associated log-likelihood\n",
    "    def _e_step(self, X, pi, means, cov):\n",
    "        \n",
    "        N = X.shape[0] \n",
    "        self.weight = np.zeros((N, self.C))\n",
    "\n",
    "        const_c = np.zeros(self.C)\n",
    "        \n",
    "        self.means = self.means if self._initial_means is None else self._initial_means\n",
    "        self.pi = self.pi if self._initial_pi is None else self._initial_pi\n",
    "        self.covariance = self.covariance if self._initial_cov is None else self._initial_cov\n",
    "\n",
    "        for c in range(self.C):\n",
    "            # Posterior Distribution\n",
    "            self.weight[:,c] = self.pi[c] * mvn.pdf(X, self.means[c,:], self.covariance[c])\n",
    "\n",
    "        # normalize columns\n",
    "        weight_norm = np.sum(self.weight, axis=1)[:,np.newaxis]\n",
    "        self.weight /= weight_norm\n",
    "\n",
    "        return self.weight\n",
    "    \n",
    "    #3C) Using M-step of the GMM algorithm, now update the values of means, covariance and phi of each cluster\n",
    "    def _m_step(self, X, weight):\n",
    "       \n",
    "        N = X.shape[0] # Total objects\n",
    "        C = self.weight.shape[1] # Total clusters\n",
    "        d = X.shape[1] # Object dimension\n",
    "\n",
    "        self.pi = np.mean(self.weight, axis = 0) #Update pi / weight\n",
    "\n",
    "        self.means = np.dot(self.weight.T, X) / np.sum(self.weight, axis = 0)[:,np.newaxis] #update means\n",
    "\n",
    "        for c in range(C): #Update covariance\n",
    "            x = X - self.means[c, :]\n",
    "            \n",
    "            weight_diag = np.diag(self.weight[:,c])\n",
    "            x_means = np.matrix(x)\n",
    "            weight_diag = np.matrix(weight_diag)\n",
    "\n",
    "            cov_c = x.T * weight_diag * x\n",
    "            self.covariance[c,:,:]=(cov_c) / np.sum(self.weight, axis = 0)[:,np.newaxis][c]\n",
    "\n",
    "        return self.pi, self.means, self.covariance\n",
    "    \n",
    "    \n",
    "    def _compute_loss_function(self, X, pi, means, covariance):\n",
    "        \n",
    "        N = X.shape[0]\n",
    "        C = self.weight.shape[1]\n",
    "        self.loss = np.zeros((N, C))\n",
    "\n",
    "        for c in range(C):\n",
    "            dist = mvn(self.means[c], self.covariance[c],allow_singular=True)\n",
    "            self.loss[:,c] = self.weight[:,c] * (np.log(self.pi[c]+0.00001)+dist.logpdf(X)-np.log(self.weight[:,c]+0.000001))\n",
    "        self.loss = np.sum(self.loss)\n",
    "        return self.loss\n",
    "    \n",
    "    def fit(self, X):\n",
    "        \n",
    "        d = X.shape[1]\n",
    "        self.means, self.covariance, self.pi =  self._initialise_parameters(X)\n",
    "        \n",
    "        try:\n",
    "            #Calculate new responsibilities/weights and new log-likelihood.\n",
    "            #This new calculation will be processed in each iterations\n",
    "            for run in range(self.iteration):  \n",
    "                \n",
    "                #B.) calculate responsibilities/weights using E-step (E-step run/called here)\n",
    "                self.weight  = self._e_step(X, self.means, self.pi, self.covariance) \n",
    "                \n",
    "                #C.) Using M-step of the GMM algorithm, nupdate the values of means,covariance and phi  (M-step called here)\n",
    "                self.pi, self.means, self.covariance = self._m_step(X, self.weight)\n",
    "                loss = self._compute_loss_function(X, self.pi, self.means, self.covariance)\n",
    "                \n",
    "                #D.) Check if there is any convergence\n",
    "                if run % 10 == 0:\n",
    "                    print(\"Iteration: %d Loss: %0.6f\" %(run, loss))\n",
    "        \n",
    "        except Exception as e:\n",
    "            print(e)\n",
    "            \n",
    "        return self\n",
    "    \n",
    "    def predict(self, X):\n",
    "        \n",
    "        labels = np.zeros((X.shape[0], self.C))\n",
    "        \n",
    "        for c in range(self.C):\n",
    "            labels [:,c] = self.pi[c] * mvn.pdf(X, self.means[c,:], self.covariance[c])\n",
    "        labels  = labels .argmax(1)\n",
    "        return labels \n",
    "    \n",
    "    def predict_proba(self, X):\n",
    "        \n",
    "        post_proba = np.zeros((X.shape[0], self.C))\n",
    "        \n",
    "        for c in range(self.C):\n",
    "            # Posterior Distribution\n",
    "            post_proba[:,c] = self.pi[c] * mvn.pdf(X, self.means[c,:], self.covariance[c])\n",
    "    \n",
    "        return post_proba\n",
    "   "
   ]
  },
  {
   "cell_type": "markdown",
   "id": "amazing-announcement",
   "metadata": {},
   "source": [
    "<b>A. Find the best possible “k” used for GMM clustering algorithm using silhouette \n",
    "scores."
   ]
  },
  {
   "cell_type": "code",
   "execution_count": 21,
   "id": "normal-politics",
   "metadata": {},
   "outputs": [
    {
     "name": "stdout",
     "output_type": "stream",
     "text": [
      "Iteration: 0 Loss: 735.183527\n",
      "Iteration: 10 Loss: 745.797222\n",
      "Iteration: 20 Loss: 745.797222\n",
      "For n = 2 Silhouette_score is : 0.6590914077637684\n",
      "Iteration: 0 Loss: 967.855595\n",
      "Iteration: 10 Loss: 968.494407\n",
      "Iteration: 20 Loss: 968.494407\n",
      "For n = 3 Silhouette_score is : 0.7347460095225654\n",
      "Iteration: 0 Loss: 949.194082\n",
      "Iteration: 10 Loss: 975.445713\n",
      "Iteration: 20 Loss: 976.536996\n",
      "For n = 4 Silhouette_score is : 0.595346630021406\n"
     ]
    }
   ],
   "source": [
    "from sklearn.metrics import silhouette_score\n",
    "#C = n_components 5 number of cluster\n",
    "for n in range (2,5):\n",
    "    model = GMM(C=n, iteration = 30) #convergence after 20 iteration\n",
    "    fit_model = model.fit(ds3)\n",
    "    predict_model = model.predict(ds3)\n",
    "    \n",
    "    print(\"For n =\", n,\n",
    "          \"Silhouette_score is :\", silhouette_score(ds3, predict_model))"
   ]
  },
  {
   "cell_type": "markdown",
   "id": "continuous-length",
   "metadata": {},
   "source": [
    "As we can see, the best n_components for the model using silhouette scores is $n=3$, where silhouette scores = 0.7347460095225654"
   ]
  },
  {
   "cell_type": "markdown",
   "id": "nonprofit-formula",
   "metadata": {},
   "source": [
    "<b>C.) Using M-step of the GMM algorithm, now update the values of means, covariance \n",
    "and phi of each cluster "
   ]
  },
  {
   "cell_type": "markdown",
   "id": "adjusted-combining",
   "metadata": {},
   "source": [
    "<b> Show the result after update"
   ]
  },
  {
   "cell_type": "code",
   "execution_count": 22,
   "id": "recent-relevance",
   "metadata": {},
   "outputs": [
    {
     "name": "stdout",
     "output_type": "stream",
     "text": [
      "Iteration: 0 Loss: 967.855595\n",
      "Iteration: 10 Loss: 968.494407\n"
     ]
    }
   ],
   "source": [
    "#C = n_components\n",
    "model = GMM(C=3, iteration = 20) #(n_components/number of cluster, and epoch of the model)\n",
    "\n",
    "fit_model = model.fit(ds3)\n",
    "predict_model = model.predict(ds3)\n"
   ]
  },
  {
   "cell_type": "markdown",
   "id": "engaging-moldova",
   "metadata": {},
   "source": [
    "<b>The means $(\\mu)$ values After update"
   ]
  },
  {
   "cell_type": "code",
   "execution_count": 23,
   "id": "progressive-elevation",
   "metadata": {},
   "outputs": [
    {
     "data": {
      "text/plain": [
       "array([[0.5695549 , 0.50610221],\n",
       "       [0.84276296, 0.84410818],\n",
       "       [0.15624982, 0.13801624]])"
      ]
     },
     "execution_count": 23,
     "metadata": {},
     "output_type": "execute_result"
    }
   ],
   "source": [
    "model.means"
   ]
  },
  {
   "cell_type": "markdown",
   "id": "severe-approach",
   "metadata": {},
   "source": [
    "<b>The covariance ($\\Sigma$) values After update"
   ]
  },
  {
   "cell_type": "code",
   "execution_count": 24,
   "id": "searching-sewing",
   "metadata": {},
   "outputs": [
    {
     "data": {
      "text/plain": [
       "array([[[0.00775964, 0.00145538],\n",
       "        [0.00145538, 0.00362129]],\n",
       "\n",
       "       [[0.00316013, 0.00255283],\n",
       "        [0.00255283, 0.00324619]],\n",
       "\n",
       "       [[0.0030415 , 0.00252319],\n",
       "        [0.00252319, 0.00293692]]])"
      ]
     },
     "execution_count": 24,
     "metadata": {},
     "output_type": "execute_result"
    }
   ],
   "source": [
    "model.covariance"
   ]
  },
  {
   "cell_type": "markdown",
   "id": "religious-mexico",
   "metadata": {},
   "source": [
    "<b>The weight ($\\pi$) values After update"
   ]
  },
  {
   "cell_type": "code",
   "execution_count": 25,
   "id": "coastal-holly",
   "metadata": {},
   "outputs": [
    {
     "data": {
      "text/plain": [
       "array([[3.05361049e-08, 9.99999969e-01, 1.19079806e-38],\n",
       "       [3.23461200e-13, 1.00000000e+00, 5.56155575e-51],\n",
       "       [9.99999927e-01, 7.33410490e-08, 2.48798434e-12],\n",
       "       ...,\n",
       "       [2.14887408e-12, 2.19103147e-39, 1.00000000e+00],\n",
       "       [1.04690399e-16, 1.56730615e-50, 1.00000000e+00],\n",
       "       [9.99999998e-01, 1.59982874e-09, 1.92075639e-10]])"
      ]
     },
     "execution_count": 25,
     "metadata": {},
     "output_type": "execute_result"
    }
   ],
   "source": [
    "model.weight"
   ]
  },
  {
   "cell_type": "markdown",
   "id": "literary-defensive",
   "metadata": {},
   "source": [
    "<b>D.) Go back to B, calculate new responsibilities/weights and new log-likelihood. Check \n",
    "if there is any convergence (loss function doesn't change) of the log-likelihood values."
   ]
  },
  {
   "cell_type": "markdown",
   "id": "blond-moscow",
   "metadata": {},
   "source": [
    "To check the convergence, let's call again the function to let it know is there any convergence in it?"
   ]
  },
  {
   "cell_type": "code",
   "execution_count": 26,
   "id": "ideal-entry",
   "metadata": {},
   "outputs": [
    {
     "name": "stdout",
     "output_type": "stream",
     "text": [
      "Iteration: 0 Loss: 967.855595\n",
      "Iteration: 10 Loss: 968.494407\n",
      "Iteration: 20 Loss: 968.494407\n",
      "Iteration: 30 Loss: 968.494407\n",
      "Iteration: 40 Loss: 968.494407\n"
     ]
    }
   ],
   "source": [
    "#C = n_components\n",
    "model = GMM(C=3, iteration = 50) #(n_components/number of cluster, and epoch of the model)\n",
    "\n",
    "fit_model = model.fit(ds3)\n",
    "predict_model = model.predict(ds3)\n"
   ]
  },
  {
   "cell_type": "markdown",
   "id": "organized-caution",
   "metadata": {},
   "source": [
    "<b>As we can see here, the loss function didn't change anymore, and this is the prove that there's convergence in it"
   ]
  },
  {
   "cell_type": "markdown",
   "id": "suffering-layout",
   "metadata": {},
   "source": [
    "<b>E.)To confirm your results you may need to call the corresponding GMM python \n",
    "library from scikitlearn. Visualize the obtained clusters."
   ]
  },
  {
   "cell_type": "code",
   "execution_count": 27,
   "id": "medieval-lebanon",
   "metadata": {
    "scrolled": true
   },
   "outputs": [
    {
     "data": {
      "image/png": "[encoded data removed]",
      "text/plain": [
       "<Figure size 504x360 with 1 Axes>"
      ]
     },
     "metadata": {
      "needs_background": "light"
     },
     "output_type": "display_data"
    }
   ],
   "source": [
    "def draw_ellipse(position, covariance, ax=None, **kwargs):\n",
    "\n",
    "        ax = ax or plt.gca()\n",
    "    \n",
    "    # Convert covariance to axes\n",
    "        if covariance.shape == (2, 2):\n",
    "            U, s, Vt = np.linalg.svd(covariance)\n",
    "            angle = np.degrees(np.arctan2(U[1, 0], U[0, 0]))\n",
    "            width, height = 2 * np.sqrt(s)\n",
    "        else:\n",
    "            angle = 0\n",
    "            width, height = 2 * np.sqrt(covariance)\n",
    "    \n",
    "    # Draw Ellipse\n",
    "        for nsig in range(1, 4):\n",
    "            ax.add_patch(Ellipse(position, nsig * width, nsig * height,angle, **kwargs))\n",
    "\n",
    "# Make centers as the point with highest density of distribution\n",
    "centers = np.zeros((3,2))\n",
    "for i in range(model.C):\n",
    "    density = mvn(cov=model.covariance[i], mean=model.means[i]).logpdf(ds3)\n",
    "    centers[i, :] = ds3[np.argmax(density)]\n",
    "    \n",
    "plt.figure(figsize = (7,5))\n",
    "plt.scatter(ds3[:, 0], ds3[:, 1],c=predict_model ,s=50, cmap='viridis', zorder=1)\n",
    "\n",
    "plt.scatter(centers[:, 0], centers[:, 1],c='black', s=300, alpha=0.5, zorder=2);\n",
    "\n",
    "w_factor = 0.2 / model.pi.max()\n",
    "for pos, covar, w in zip(model.means, model.covariance, model.pi):\n",
    "    draw_ellipse(pos, covar, alpha = w)"
   ]
  },
  {
   "cell_type": "markdown",
   "id": "martial-hybrid",
   "metadata": {},
   "source": [
    "And here's the result from Scikit-Learn"
   ]
  },
  {
   "cell_type": "code",
   "execution_count": 28,
   "id": "dedicated-referral",
   "metadata": {},
   "outputs": [
    {
     "data": {
      "image/png": "[encoded data removed]",
      "text/plain": [
       "<Figure size 504x360 with 1 Axes>"
      ]
     },
     "metadata": {
      "needs_background": "light"
     },
     "output_type": "display_data"
    }
   ],
   "source": [
    "from sklearn.mixture import GaussianMixture\n",
    "gmm = GaussianMixture(n_components=3, covariance_type='full').fit(ds3)\n",
    "prediction_gmm = gmm.predict(ds3)\n",
    "probs = gmm.predict_proba(ds3)\n",
    "\n",
    "centers = np.zeros((3,2))\n",
    "for i in range(3):\n",
    "    density = mvn(cov=gmm.covariances_[i], mean=gmm.means_[i]).logpdf(ds3)\n",
    "    centers[i, :] = ds3[np.argmax(density)]\n",
    "\n",
    "plt.figure(figsize = (7,5))\n",
    "plt.scatter(ds3[:, 0], ds3[:, 1],c=prediction_gmm ,s=50, cmap='viridis', zorder=1)\n",
    "plt.scatter(centers[:, 0], centers[:, 1],c='black', s=300, alpha=0.6);\n",
    "\n",
    "w_factor = 0.2 / gmm.weights_.max()\n",
    "for pos, covar, w in zip(gmm.means_, gmm.covariances_, gmm.weights_):\n",
    "    draw_ellipse(pos, covar, alpha=w*.75)"
   ]
  },
  {
   "cell_type": "markdown",
   "id": "absolute-workstation",
   "metadata": {},
   "source": [
    "<b>As we can see, the result give the same point, with the scikit-learn result"
   ]
  },
  {
   "cell_type": "markdown",
   "id": "pressing-indie",
   "metadata": {},
   "source": [
    "<b>4.) Based on three (3) variables input namely gmat, gpa, and \n",
    "work_experience, you are expected to implement a logistic regression based model that can \n",
    "be employed to assist an admission process in a company where you are working for. "
   ]
  },
  {
   "cell_type": "markdown",
   "id": "statistical-aging",
   "metadata": {},
   "source": [
    "First we need to import the training set, using OCR we will write the training set given into csv file\n",
    "\n",
    "After the csv file ready, we can import it using pandas read_csv function"
   ]
  },
  {
   "cell_type": "code",
   "execution_count": 29,
   "id": "accessible-legend",
   "metadata": {
    "scrolled": true
   },
   "outputs": [
    {
     "data": {
      "text/html": [
       "<div>\n",
       "<style scoped>\n",
       "    .dataframe tbody tr th:only-of-type {\n",
       "        vertical-align: middle;\n",
       "    }\n",
       "\n",
       "    .dataframe tbody tr th {\n",
       "        vertical-align: top;\n",
       "    }\n",
       "\n",
       "    .dataframe thead th {\n",
       "        text-align: right;\n",
       "    }\n",
       "</style>\n",
       "<table border=\"1\" class=\"dataframe\">\n",
       "  <thead>\n",
       "    <tr style=\"text-align: right;\">\n",
       "      <th></th>\n",
       "      <th>gmat</th>\n",
       "      <th>gpa</th>\n",
       "      <th>work_experience</th>\n",
       "      <th>admitted</th>\n",
       "    </tr>\n",
       "  </thead>\n",
       "  <tbody>\n",
       "    <tr>\n",
       "      <th>0</th>\n",
       "      <td>780</td>\n",
       "      <td>4.0</td>\n",
       "      <td>3</td>\n",
       "      <td>1</td>\n",
       "    </tr>\n",
       "    <tr>\n",
       "      <th>1</th>\n",
       "      <td>750</td>\n",
       "      <td>3.9</td>\n",
       "      <td>4</td>\n",
       "      <td>1</td>\n",
       "    </tr>\n",
       "    <tr>\n",
       "      <th>2</th>\n",
       "      <td>690</td>\n",
       "      <td>3.3</td>\n",
       "      <td>3</td>\n",
       "      <td>0</td>\n",
       "    </tr>\n",
       "    <tr>\n",
       "      <th>3</th>\n",
       "      <td>710</td>\n",
       "      <td>3.7</td>\n",
       "      <td>5</td>\n",
       "      <td>1</td>\n",
       "    </tr>\n",
       "    <tr>\n",
       "      <th>4</th>\n",
       "      <td>680</td>\n",
       "      <td>3.9</td>\n",
       "      <td>4</td>\n",
       "      <td>0</td>\n",
       "    </tr>\n",
       "    <tr>\n",
       "      <th>5</th>\n",
       "      <td>730</td>\n",
       "      <td>3.7</td>\n",
       "      <td>6</td>\n",
       "      <td>1</td>\n",
       "    </tr>\n",
       "    <tr>\n",
       "      <th>6</th>\n",
       "      <td>690</td>\n",
       "      <td>2.3</td>\n",
       "      <td>1</td>\n",
       "      <td>0</td>\n",
       "    </tr>\n",
       "    <tr>\n",
       "      <th>7</th>\n",
       "      <td>720</td>\n",
       "      <td>3.3</td>\n",
       "      <td>4</td>\n",
       "      <td>1</td>\n",
       "    </tr>\n",
       "    <tr>\n",
       "      <th>8</th>\n",
       "      <td>740</td>\n",
       "      <td>3.3</td>\n",
       "      <td>5</td>\n",
       "      <td>1</td>\n",
       "    </tr>\n",
       "    <tr>\n",
       "      <th>9</th>\n",
       "      <td>690</td>\n",
       "      <td>1.7</td>\n",
       "      <td>1</td>\n",
       "      <td>0</td>\n",
       "    </tr>\n",
       "    <tr>\n",
       "      <th>10</th>\n",
       "      <td>610</td>\n",
       "      <td>2.7</td>\n",
       "      <td>3</td>\n",
       "      <td>0</td>\n",
       "    </tr>\n",
       "    <tr>\n",
       "      <th>11</th>\n",
       "      <td>690</td>\n",
       "      <td>3.7</td>\n",
       "      <td>5</td>\n",
       "      <td>1</td>\n",
       "    </tr>\n",
       "    <tr>\n",
       "      <th>12</th>\n",
       "      <td>710</td>\n",
       "      <td>3.7</td>\n",
       "      <td>6</td>\n",
       "      <td>1</td>\n",
       "    </tr>\n",
       "    <tr>\n",
       "      <th>13</th>\n",
       "      <td>680</td>\n",
       "      <td>3.3</td>\n",
       "      <td>4</td>\n",
       "      <td>0</td>\n",
       "    </tr>\n",
       "    <tr>\n",
       "      <th>14</th>\n",
       "      <td>770</td>\n",
       "      <td>3.3</td>\n",
       "      <td>3</td>\n",
       "      <td>1</td>\n",
       "    </tr>\n",
       "    <tr>\n",
       "      <th>15</th>\n",
       "      <td>610</td>\n",
       "      <td>3.0</td>\n",
       "      <td>1</td>\n",
       "      <td>0</td>\n",
       "    </tr>\n",
       "    <tr>\n",
       "      <th>16</th>\n",
       "      <td>580</td>\n",
       "      <td>2.7</td>\n",
       "      <td>4</td>\n",
       "      <td>0</td>\n",
       "    </tr>\n",
       "    <tr>\n",
       "      <th>17</th>\n",
       "      <td>650</td>\n",
       "      <td>3.7</td>\n",
       "      <td>6</td>\n",
       "      <td>1</td>\n",
       "    </tr>\n",
       "    <tr>\n",
       "      <th>18</th>\n",
       "      <td>540</td>\n",
       "      <td>2.7</td>\n",
       "      <td>2</td>\n",
       "      <td>0</td>\n",
       "    </tr>\n",
       "    <tr>\n",
       "      <th>19</th>\n",
       "      <td>590</td>\n",
       "      <td>2.3</td>\n",
       "      <td>3</td>\n",
       "      <td>0</td>\n",
       "    </tr>\n",
       "    <tr>\n",
       "      <th>20</th>\n",
       "      <td>620</td>\n",
       "      <td>3.3</td>\n",
       "      <td>2</td>\n",
       "      <td>1</td>\n",
       "    </tr>\n",
       "    <tr>\n",
       "      <th>21</th>\n",
       "      <td>600</td>\n",
       "      <td>2.0</td>\n",
       "      <td>1</td>\n",
       "      <td>0</td>\n",
       "    </tr>\n",
       "    <tr>\n",
       "      <th>22</th>\n",
       "      <td>550</td>\n",
       "      <td>2.3</td>\n",
       "      <td>4</td>\n",
       "      <td>0</td>\n",
       "    </tr>\n",
       "    <tr>\n",
       "      <th>23</th>\n",
       "      <td>550</td>\n",
       "      <td>2.7</td>\n",
       "      <td>1</td>\n",
       "      <td>0</td>\n",
       "    </tr>\n",
       "    <tr>\n",
       "      <th>24</th>\n",
       "      <td>570</td>\n",
       "      <td>3.0</td>\n",
       "      <td>2</td>\n",
       "      <td>0</td>\n",
       "    </tr>\n",
       "    <tr>\n",
       "      <th>25</th>\n",
       "      <td>670</td>\n",
       "      <td>3.3</td>\n",
       "      <td>6</td>\n",
       "      <td>1</td>\n",
       "    </tr>\n",
       "    <tr>\n",
       "      <th>26</th>\n",
       "      <td>660</td>\n",
       "      <td>3.7</td>\n",
       "      <td>4</td>\n",
       "      <td>1</td>\n",
       "    </tr>\n",
       "    <tr>\n",
       "      <th>27</th>\n",
       "      <td>580</td>\n",
       "      <td>2.3</td>\n",
       "      <td>2</td>\n",
       "      <td>0</td>\n",
       "    </tr>\n",
       "    <tr>\n",
       "      <th>28</th>\n",
       "      <td>650</td>\n",
       "      <td>3.7</td>\n",
       "      <td>6</td>\n",
       "      <td>1</td>\n",
       "    </tr>\n",
       "    <tr>\n",
       "      <th>29</th>\n",
       "      <td>660</td>\n",
       "      <td>3.3</td>\n",
       "      <td>5</td>\n",
       "      <td>1</td>\n",
       "    </tr>\n",
       "    <tr>\n",
       "      <th>30</th>\n",
       "      <td>640</td>\n",
       "      <td>3.0</td>\n",
       "      <td>1</td>\n",
       "      <td>0</td>\n",
       "    </tr>\n",
       "    <tr>\n",
       "      <th>31</th>\n",
       "      <td>620</td>\n",
       "      <td>2.7</td>\n",
       "      <td>2</td>\n",
       "      <td>0</td>\n",
       "    </tr>\n",
       "    <tr>\n",
       "      <th>32</th>\n",
       "      <td>660</td>\n",
       "      <td>4.0</td>\n",
       "      <td>4</td>\n",
       "      <td>1</td>\n",
       "    </tr>\n",
       "    <tr>\n",
       "      <th>33</th>\n",
       "      <td>660</td>\n",
       "      <td>3.3</td>\n",
       "      <td>6</td>\n",
       "      <td>1</td>\n",
       "    </tr>\n",
       "    <tr>\n",
       "      <th>34</th>\n",
       "      <td>680</td>\n",
       "      <td>3.3</td>\n",
       "      <td>5</td>\n",
       "      <td>1</td>\n",
       "    </tr>\n",
       "    <tr>\n",
       "      <th>35</th>\n",
       "      <td>650</td>\n",
       "      <td>2.3</td>\n",
       "      <td>1</td>\n",
       "      <td>0</td>\n",
       "    </tr>\n",
       "    <tr>\n",
       "      <th>36</th>\n",
       "      <td>670</td>\n",
       "      <td>2.7</td>\n",
       "      <td>2</td>\n",
       "      <td>0</td>\n",
       "    </tr>\n",
       "    <tr>\n",
       "      <th>37</th>\n",
       "      <td>580</td>\n",
       "      <td>3.3</td>\n",
       "      <td>1</td>\n",
       "      <td>0</td>\n",
       "    </tr>\n",
       "    <tr>\n",
       "      <th>38</th>\n",
       "      <td>590</td>\n",
       "      <td>1.7</td>\n",
       "      <td>4</td>\n",
       "      <td>0</td>\n",
       "    </tr>\n",
       "    <tr>\n",
       "      <th>39</th>\n",
       "      <td>690</td>\n",
       "      <td>3.7</td>\n",
       "      <td>5</td>\n",
       "      <td>1</td>\n",
       "    </tr>\n",
       "  </tbody>\n",
       "</table>\n",
       "</div>"
      ],
      "text/plain": [
       "    gmat  gpa  work_experience  admitted\n",
       "0    780  4.0                3         1\n",
       "1    750  3.9                4         1\n",
       "2    690  3.3                3         0\n",
       "3    710  3.7                5         1\n",
       "4    680  3.9                4         0\n",
       "5    730  3.7                6         1\n",
       "6    690  2.3                1         0\n",
       "7    720  3.3                4         1\n",
       "8    740  3.3                5         1\n",
       "9    690  1.7                1         0\n",
       "10   610  2.7                3         0\n",
       "11   690  3.7                5         1\n",
       "12   710  3.7                6         1\n",
       "13   680  3.3                4         0\n",
       "14   770  3.3                3         1\n",
       "15   610  3.0                1         0\n",
       "16   580  2.7                4         0\n",
       "17   650  3.7                6         1\n",
       "18   540  2.7                2         0\n",
       "19   590  2.3                3         0\n",
       "20   620  3.3                2         1\n",
       "21   600  2.0                1         0\n",
       "22   550  2.3                4         0\n",
       "23   550  2.7                1         0\n",
       "24   570  3.0                2         0\n",
       "25   670  3.3                6         1\n",
       "26   660  3.7                4         1\n",
       "27   580  2.3                2         0\n",
       "28   650  3.7                6         1\n",
       "29   660  3.3                5         1\n",
       "30   640  3.0                1         0\n",
       "31   620  2.7                2         0\n",
       "32   660  4.0                4         1\n",
       "33   660  3.3                6         1\n",
       "34   680  3.3                5         1\n",
       "35   650  2.3                1         0\n",
       "36   670  2.7                2         0\n",
       "37   580  3.3                1         0\n",
       "38   590  1.7                4         0\n",
       "39   690  3.7                5         1"
      ]
     },
     "execution_count": 29,
     "metadata": {},
     "output_type": "execute_result"
    }
   ],
   "source": [
    "ds4 = pd.read_csv('datasets/dataset_uas.csv')\n",
    "ds4"
   ]
  },
  {
   "cell_type": "markdown",
   "id": "cathedral-reform",
   "metadata": {},
   "source": [
    "After the training dataset imported, we need to split the feature and target of the dataset"
   ]
  },
  {
   "cell_type": "code",
   "execution_count": 30,
   "id": "pretty-praise",
   "metadata": {},
   "outputs": [],
   "source": [
    "feature = ds4.iloc[:,:-1].values\n",
    "label = ds4.iloc[:,-1:].values"
   ]
  },
  {
   "cell_type": "markdown",
   "id": "classified-flesh",
   "metadata": {},
   "source": [
    "To give accurate output, we need to normalize the feature (using no 1 normalization function)"
   ]
  },
  {
   "cell_type": "code",
   "execution_count": 31,
   "id": "forty-worship",
   "metadata": {},
   "outputs": [
    {
     "data": {
      "text/plain": [
       "array([[1.        , 1.        , 0.4       ],\n",
       "       [0.875     , 0.95652174, 0.6       ],\n",
       "       [0.625     , 0.69565217, 0.4       ],\n",
       "       [0.70833333, 0.86956522, 0.8       ],\n",
       "       [0.58333333, 0.95652174, 0.6       ],\n",
       "       [0.79166667, 0.86956522, 1.        ],\n",
       "       [0.625     , 0.26086957, 0.        ],\n",
       "       [0.75      , 0.69565217, 0.6       ],\n",
       "       [0.83333333, 0.69565217, 0.8       ],\n",
       "       [0.625     , 0.        , 0.        ],\n",
       "       [0.29166667, 0.43478261, 0.4       ],\n",
       "       [0.625     , 0.86956522, 0.8       ],\n",
       "       [0.70833333, 0.86956522, 1.        ],\n",
       "       [0.58333333, 0.69565217, 0.6       ],\n",
       "       [0.95833333, 0.69565217, 0.4       ],\n",
       "       [0.29166667, 0.56521739, 0.        ],\n",
       "       [0.16666667, 0.43478261, 0.6       ],\n",
       "       [0.45833333, 0.86956522, 1.        ],\n",
       "       [0.        , 0.43478261, 0.2       ],\n",
       "       [0.20833333, 0.26086957, 0.4       ],\n",
       "       [0.33333333, 0.69565217, 0.2       ],\n",
       "       [0.25      , 0.13043478, 0.        ],\n",
       "       [0.04166667, 0.26086957, 0.6       ],\n",
       "       [0.04166667, 0.43478261, 0.        ],\n",
       "       [0.125     , 0.56521739, 0.2       ],\n",
       "       [0.54166667, 0.69565217, 1.        ],\n",
       "       [0.5       , 0.86956522, 0.6       ],\n",
       "       [0.16666667, 0.26086957, 0.2       ],\n",
       "       [0.45833333, 0.86956522, 1.        ],\n",
       "       [0.5       , 0.69565217, 0.8       ],\n",
       "       [0.41666667, 0.56521739, 0.        ],\n",
       "       [0.33333333, 0.43478261, 0.2       ],\n",
       "       [0.5       , 1.        , 0.6       ],\n",
       "       [0.5       , 0.69565217, 1.        ],\n",
       "       [0.58333333, 0.69565217, 0.8       ],\n",
       "       [0.45833333, 0.26086957, 0.        ],\n",
       "       [0.54166667, 0.43478261, 0.2       ],\n",
       "       [0.16666667, 0.69565217, 0.        ],\n",
       "       [0.20833333, 0.        , 0.6       ],\n",
       "       [0.625     , 0.86956522, 0.8       ]])"
      ]
     },
     "execution_count": 31,
     "metadata": {},
     "output_type": "execute_result"
    }
   ],
   "source": [
    "#using number 1 normalizattion function\n",
    "scaled_feature = MinMaxValues(feature)\n",
    "normalize_dataset(feature, scaled_feature)\n",
    "feature"
   ]
  },
  {
   "cell_type": "markdown",
   "id": "sunset-archives",
   "metadata": {},
   "source": [
    "<b>Instruction:</b> Make sure the training dataset above is split for training and \n",
    "validation"
   ]
  },
  {
   "cell_type": "code",
   "execution_count": 32,
   "id": "established-fellow",
   "metadata": {},
   "outputs": [],
   "source": [
    "def train_validation_split(X, y):\n",
    "    arr_rand = np.random.rand(X.shape[0])\n",
    "    split = arr_rand < np.percentile(arr_rand, 80) #Split into 80% training, and 20% validation\n",
    "\n",
    "    X_train = X[split]\n",
    "    X_val =  X[~split]\n",
    "    y_train = y[split]\n",
    "    y_val = y[~split]\n",
    "\n",
    "    return X_train, X_val, y_train, y_val"
   ]
  },
  {
   "cell_type": "code",
   "execution_count": 33,
   "id": "illegal-neighborhood",
   "metadata": {},
   "outputs": [],
   "source": [
    "X_train,X_val,y_train,y_val = train_validation_split(feature,label)"
   ]
  },
  {
   "cell_type": "markdown",
   "id": "brief-walnut",
   "metadata": {},
   "source": [
    "Build the Logistic Regression Model"
   ]
  },
  {
   "cell_type": "markdown",
   "id": "searching-stereo",
   "metadata": {},
   "source": [
    "But before we jump into the code, Here's the Gradient Descent Algorithm for loss function: \n",
    "\n",
    "repeat until epoch (until found the convergence){\n",
    "\n",
    "   - $tmp_{i} =  w_{i}  - \\alpha * dwi$\n",
    "\n",
    "   - $wi = tmpi$         \n",
    "\n",
    "} "
   ]
  },
  {
   "cell_type": "code",
   "execution_count": 34,
   "id": "removable-horror",
   "metadata": {},
   "outputs": [],
   "source": [
    "class Logistic_Regression() :\n",
    "    \n",
    "    #init learning rate and epoch    \n",
    "    def __init__(self) : \n",
    "        self.learning_rate = 0.01 #define the learning rate 0.01       \n",
    "        self.epoch = 2000 #define the epoch 2000\n",
    "      \n",
    "    #Update weights/loss function using Gradient Descent     \n",
    "    def update_weights(self) :           \n",
    "        A = 1/(1+np.exp(-(self.X.dot(self.W) + self.b)))\n",
    "          \n",
    "        # calculate gradients        \n",
    "        tmp = (A-self.Y.T)        \n",
    "        tmp = np.reshape(tmp,self.m)        \n",
    "        dW = np.dot(self.X.T,tmp)/self.m          \n",
    "        db = np.sum(tmp)/self.m \n",
    "          \n",
    "        # update weights    \n",
    "        self.W = self.W - self.learning_rate * dW #Gradient Descent Algorithm   \n",
    "        self.b = self.b - self.learning_rate * db\n",
    "          \n",
    "        return self\n",
    "    \n",
    "    # Training the model    \n",
    "    def fit(self, X, Y) :        \n",
    "        \n",
    "        # row/total_data, column/total_feature        \n",
    "        self.m, self.n = X.shape   \n",
    "        \n",
    "        # initialization       \n",
    "        self.W = np.zeros(self.n)        \n",
    "        self.b = 0        \n",
    "        self.X = X        \n",
    "        self.Y = Y\n",
    "          \n",
    "        # Update weight, using gradient descent learning as described above   \n",
    "        for i in range(self.epoch) : #repeat until epoch (2000)          \n",
    "            self.update_weights() \n",
    "        return self  \n",
    "    \n",
    "    #Predict function\n",
    "    def predict(self, X) :    \n",
    "        Z = 1 / ( 1 + np.exp( - ( X.dot( self.W ) + self.b ) ) )        \n",
    "        Y = np.where( Z > 0.5, 1, 0 )        \n",
    "        return Y"
   ]
  },
  {
   "cell_type": "markdown",
   "id": "interesting-consensus",
   "metadata": {},
   "source": [
    "y_train have 2 dimension, reshape y_train"
   ]
  },
  {
   "cell_type": "code",
   "execution_count": 35,
   "id": "hundred-latvia",
   "metadata": {},
   "outputs": [],
   "source": [
    "y_train = y_train.reshape(-1)"
   ]
  },
  {
   "cell_type": "markdown",
   "id": "warming-decade",
   "metadata": {},
   "source": [
    "Fit the model"
   ]
  },
  {
   "cell_type": "code",
   "execution_count": 36,
   "id": "whole-juice",
   "metadata": {},
   "outputs": [
    {
     "data": {
      "text/plain": [
       "<__main__.Logistic_Regression at 0x2e860de5c48>"
      ]
     },
     "execution_count": 36,
     "metadata": {},
     "output_type": "execute_result"
    }
   ],
   "source": [
    "model = Logistic_Regression()\n",
    "model.fit(X_train, y_train)"
   ]
  },
  {
   "cell_type": "markdown",
   "id": "signed-latino",
   "metadata": {},
   "source": [
    "Predict the train & validation"
   ]
  },
  {
   "cell_type": "code",
   "execution_count": 37,
   "id": "collectible-research",
   "metadata": {},
   "outputs": [],
   "source": [
    "train_prediction = model.predict(X_train)\n",
    "validation_prediction = model.predict(X_val)"
   ]
  },
  {
   "cell_type": "markdown",
   "id": "innovative-apollo",
   "metadata": {},
   "source": [
    "Train & Validation score function"
   ]
  },
  {
   "cell_type": "code",
   "execution_count": 38,
   "id": "increased-clinton",
   "metadata": {},
   "outputs": [],
   "source": [
    "def train_score(X):\n",
    "    correct = 0    \n",
    "    count = 0    \n",
    "    for count in range(np.size(X)):  \n",
    "\n",
    "        if y_train[count] == X[count] :             \n",
    "            correct = correct + 1     \n",
    "        count = count + 1\n",
    "\n",
    "    print( \"Training Accuracy :\", (correct / count) * 100 )\n",
    "    \n",
    "def validation_score(X):\n",
    "    correct = 0    \n",
    "    count = 0    \n",
    "    for count in range(np.size(X)):  \n",
    "\n",
    "        if y_val[count] == X[count] :             \n",
    "            correct = correct + 1     \n",
    "        count = count + 1\n",
    "\n",
    "    print( \"Validation Accuracy :\", (correct / count) * 100 )"
   ]
  },
  {
   "cell_type": "markdown",
   "id": "green-crime",
   "metadata": {},
   "source": [
    "Let's try to find the Training accuracy (predicting the training dataset)"
   ]
  },
  {
   "cell_type": "code",
   "execution_count": 39,
   "id": "christian-confidence",
   "metadata": {},
   "outputs": [
    {
     "name": "stdout",
     "output_type": "stream",
     "text": [
      "Training Accuracy : 90.625\n",
      "Validation Accuracy : 87.5\n"
     ]
    }
   ],
   "source": [
    "train_score(train_prediction)\n",
    "validation_score(validation_prediction)"
   ]
  },
  {
   "cell_type": "markdown",
   "id": "brief-arrow",
   "metadata": {},
   "source": [
    "Here's the confusion matrix for the training set"
   ]
  },
  {
   "cell_type": "code",
   "execution_count": 40,
   "id": "eligible-glenn",
   "metadata": {},
   "outputs": [
    {
     "data": {
      "text/plain": [
       "<AxesSubplot:xlabel='Prediction', ylabel='Actual'>"
      ]
     },
     "execution_count": 40,
     "metadata": {},
     "output_type": "execute_result"
    },
    {
     "data": {
      "image/png": "[encoded data removed]",
      "text/plain": [
       "<Figure size 360x360 with 2 Axes>"
      ]
     },
     "metadata": {
      "needs_background": "light"
     },
     "output_type": "display_data"
    }
   ],
   "source": [
    "import seaborn as sns\n",
    "labels1=pd.DataFrame({\"Prediction\":train_prediction,\n",
    "                     \"Actual\":y_train})\n",
    "confusion_matrix = pd.crosstab(labels1['Actual'],labels1['Prediction'])\n",
    "fig, ax = plt.subplots(figsize=(5,5))\n",
    "sns.heatmap(confusion_matrix, annot=True, ax=ax, fmt='g')"
   ]
  },
  {
   "cell_type": "markdown",
   "id": "alpine-diesel",
   "metadata": {},
   "source": [
    "As we can see here, there's 2 False positive (FP), and 1 False negative (FN) in the training dataset. Now, let's jump into the validation set"
   ]
  },
  {
   "cell_type": "code",
   "execution_count": 41,
   "id": "atmospheric-diabetes",
   "metadata": {},
   "outputs": [
    {
     "data": {
      "text/plain": [
       "<AxesSubplot:xlabel='Prediction', ylabel='Actual'>"
      ]
     },
     "execution_count": 41,
     "metadata": {},
     "output_type": "execute_result"
    },
    {
     "data": {
      "image/png": "[encoded data removed]",
      "text/plain": [
       "<Figure size 360x360 with 2 Axes>"
      ]
     },
     "metadata": {
      "needs_background": "light"
     },
     "output_type": "display_data"
    }
   ],
   "source": [
    "import seaborn as sns\n",
    "y_val=y_val.reshape(-1)\n",
    "labels2=pd.DataFrame({\"Prediction\":validation_prediction,\n",
    "                     \"Actual\":y_val})\n",
    "confusion_matrix = pd.crosstab(labels2['Actual'],labels2['Prediction'])\n",
    "fig, ax = plt.subplots(figsize=(5,5))\n",
    "sns.heatmap(confusion_matrix, annot=True, ax=ax)"
   ]
  },
  {
   "cell_type": "markdown",
   "id": "spanish-dover",
   "metadata": {},
   "source": [
    "And here's in our validation result, we found only 1 False Positive (FP)"
   ]
  },
  {
   "cell_type": "markdown",
   "id": "professional-roulette",
   "metadata": {},
   "source": [
    "<b>Predict the testing set"
   ]
  },
  {
   "cell_type": "code",
   "execution_count": 42,
   "id": "czech-inflation",
   "metadata": {},
   "outputs": [
    {
     "data": {
      "text/plain": [
       "array([0, 1, 1, 0, 1])"
      ]
     },
     "execution_count": 42,
     "metadata": {},
     "output_type": "execute_result"
    }
   ],
   "source": [
    "test=pd.DataFrame({\"gmat\":[590,740,680,610,710],\n",
    "                 \"gpa\":[2,3.7,3.3,2.3,3],\n",
    "                 \"work_experience\":[3,4,6,1,5]}).values\n",
    "\n",
    "#using number 1 normalizattion function\n",
    "scaled_feature = MinMaxValues(test)\n",
    "normalize_dataset(test, scaled_feature)\n",
    "\n",
    "prediction = model.predict(test)\n",
    "prediction"
   ]
  },
  {
   "cell_type": "markdown",
   "id": "furnished-graduate",
   "metadata": {},
   "source": [
    "<b>My Brief explanation of the model: I think the model work quite well, as we can see here in our confusion matrix, in training dataset, it give only 2 False positive (FP) and 1 False Negative (FN), and the rest of it, is true. And for the validation model, it give only 1 False positive (FP) The model work fine with the 90.625% accuracy for the training set, and 87.5% accuracy for validation set. So as the conclusion the model works very well. Thank you"
   ]
  }
 ],
 "metadata": {
  "kernelspec": {
   "display_name": "Python 3",
   "language": "python",
   "name": "python3"
  },
  "language_info": {
   "codemirror_mode": {
    "name": "ipython",
    "version": 3
   },
   "file_extension": ".py",
   "mimetype": "text/x-python",
   "name": "python",
   "nbconvert_exporter": "python",
   "pygments_lexer": "ipython3",
   "version": "3.7.9"
  }
 },
 "nbformat": 4,
 "nbformat_minor": 5
}
