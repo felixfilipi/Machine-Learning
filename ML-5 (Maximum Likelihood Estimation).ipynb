{
 "cells": [
  {
   "cell_type": "code",
   "execution_count": 1,
   "id": "eleven-deployment",
   "metadata": {},
   "outputs": [],
   "source": [
    "#Maximum Likelihood Estimation\n",
    "import numpy as np\n",
    "import pandas as pd\n",
    "import matplotlib.pyplot as plt\n",
    "import seaborn as sns\n",
    "from scipy.optimize import minimize\n",
    "import scipy.stats as stats\n",
    "import statsmodels.api as sm"
   ]
  },
  {
   "cell_type": "code",
   "execution_count": 2,
   "id": "chicken-binding",
   "metadata": {},
   "outputs": [],
   "source": [
    "#read csv\n",
    "df=pd.read_csv('datasets/listings.csv')\n",
    "\n",
    "#try plot in 1000\n",
    "ds=df.head(1000)"
   ]
  },
  {
   "cell_type": "code",
   "execution_count": 3,
   "id": "pointed-problem",
   "metadata": {
    "scrolled": true
   },
   "outputs": [
    {
     "data": {
      "text/html": [
       "<div>\n",
       "<style scoped>\n",
       "    .dataframe tbody tr th:only-of-type {\n",
       "        vertical-align: middle;\n",
       "    }\n",
       "\n",
       "    .dataframe tbody tr th {\n",
       "        vertical-align: top;\n",
       "    }\n",
       "\n",
       "    .dataframe thead th {\n",
       "        text-align: right;\n",
       "    }\n",
       "</style>\n",
       "<table border=\"1\" class=\"dataframe\">\n",
       "  <thead>\n",
       "    <tr style=\"text-align: right;\">\n",
       "      <th></th>\n",
       "      <th>id</th>\n",
       "      <th>host_id</th>\n",
       "      <th>latitude</th>\n",
       "      <th>longitude</th>\n",
       "      <th>price</th>\n",
       "      <th>minimum_nights</th>\n",
       "      <th>number_of_reviews</th>\n",
       "      <th>reviews_per_month</th>\n",
       "      <th>calculated_host_listings_count</th>\n",
       "      <th>availability_365</th>\n",
       "    </tr>\n",
       "  </thead>\n",
       "  <tbody>\n",
       "    <tr>\n",
       "      <th>id</th>\n",
       "      <td>1.000000</td>\n",
       "      <td>0.541770</td>\n",
       "      <td>-0.112042</td>\n",
       "      <td>-0.004701</td>\n",
       "      <td>0.049324</td>\n",
       "      <td>-0.083037</td>\n",
       "      <td>-0.341513</td>\n",
       "      <td>0.199958</td>\n",
       "      <td>0.245014</td>\n",
       "      <td>0.113259</td>\n",
       "    </tr>\n",
       "    <tr>\n",
       "      <th>host_id</th>\n",
       "      <td>0.541770</td>\n",
       "      <td>1.000000</td>\n",
       "      <td>-0.041237</td>\n",
       "      <td>-0.016341</td>\n",
       "      <td>0.038802</td>\n",
       "      <td>-0.089862</td>\n",
       "      <td>-0.175573</td>\n",
       "      <td>0.169950</td>\n",
       "      <td>-0.063522</td>\n",
       "      <td>0.041840</td>\n",
       "    </tr>\n",
       "    <tr>\n",
       "      <th>latitude</th>\n",
       "      <td>-0.112042</td>\n",
       "      <td>-0.041237</td>\n",
       "      <td>1.000000</td>\n",
       "      <td>-0.034970</td>\n",
       "      <td>-0.073990</td>\n",
       "      <td>0.084924</td>\n",
       "      <td>-0.015022</td>\n",
       "      <td>-0.029580</td>\n",
       "      <td>-0.149961</td>\n",
       "      <td>-0.068740</td>\n",
       "    </tr>\n",
       "    <tr>\n",
       "      <th>longitude</th>\n",
       "      <td>-0.004701</td>\n",
       "      <td>-0.016341</td>\n",
       "      <td>-0.034970</td>\n",
       "      <td>1.000000</td>\n",
       "      <td>-0.030436</td>\n",
       "      <td>-0.029208</td>\n",
       "      <td>0.102109</td>\n",
       "      <td>0.117578</td>\n",
       "      <td>0.049416</td>\n",
       "      <td>-0.035727</td>\n",
       "    </tr>\n",
       "    <tr>\n",
       "      <th>price</th>\n",
       "      <td>0.049324</td>\n",
       "      <td>0.038802</td>\n",
       "      <td>-0.073990</td>\n",
       "      <td>-0.030436</td>\n",
       "      <td>1.000000</td>\n",
       "      <td>-0.012214</td>\n",
       "      <td>-0.042013</td>\n",
       "      <td>0.000920</td>\n",
       "      <td>0.016555</td>\n",
       "      <td>0.017451</td>\n",
       "    </tr>\n",
       "    <tr>\n",
       "      <th>minimum_nights</th>\n",
       "      <td>-0.083037</td>\n",
       "      <td>-0.089862</td>\n",
       "      <td>0.084924</td>\n",
       "      <td>-0.029208</td>\n",
       "      <td>-0.012214</td>\n",
       "      <td>1.000000</td>\n",
       "      <td>-0.076475</td>\n",
       "      <td>-0.139469</td>\n",
       "      <td>-0.013964</td>\n",
       "      <td>0.150356</td>\n",
       "    </tr>\n",
       "    <tr>\n",
       "      <th>number_of_reviews</th>\n",
       "      <td>-0.341513</td>\n",
       "      <td>-0.175573</td>\n",
       "      <td>-0.015022</td>\n",
       "      <td>0.102109</td>\n",
       "      <td>-0.042013</td>\n",
       "      <td>-0.076475</td>\n",
       "      <td>1.000000</td>\n",
       "      <td>0.627965</td>\n",
       "      <td>-0.149681</td>\n",
       "      <td>-0.066658</td>\n",
       "    </tr>\n",
       "    <tr>\n",
       "      <th>reviews_per_month</th>\n",
       "      <td>0.199958</td>\n",
       "      <td>0.169950</td>\n",
       "      <td>-0.029580</td>\n",
       "      <td>0.117578</td>\n",
       "      <td>0.000920</td>\n",
       "      <td>-0.139469</td>\n",
       "      <td>0.627965</td>\n",
       "      <td>1.000000</td>\n",
       "      <td>-0.195962</td>\n",
       "      <td>-0.108243</td>\n",
       "    </tr>\n",
       "    <tr>\n",
       "      <th>calculated_host_listings_count</th>\n",
       "      <td>0.245014</td>\n",
       "      <td>-0.063522</td>\n",
       "      <td>-0.149961</td>\n",
       "      <td>0.049416</td>\n",
       "      <td>0.016555</td>\n",
       "      <td>-0.013964</td>\n",
       "      <td>-0.149681</td>\n",
       "      <td>-0.195962</td>\n",
       "      <td>1.000000</td>\n",
       "      <td>0.246230</td>\n",
       "    </tr>\n",
       "    <tr>\n",
       "      <th>availability_365</th>\n",
       "      <td>0.113259</td>\n",
       "      <td>0.041840</td>\n",
       "      <td>-0.068740</td>\n",
       "      <td>-0.035727</td>\n",
       "      <td>0.017451</td>\n",
       "      <td>0.150356</td>\n",
       "      <td>-0.066658</td>\n",
       "      <td>-0.108243</td>\n",
       "      <td>0.246230</td>\n",
       "      <td>1.000000</td>\n",
       "    </tr>\n",
       "  </tbody>\n",
       "</table>\n",
       "</div>"
      ],
      "text/plain": [
       "                                      id   host_id  latitude  longitude  \\\n",
       "id                              1.000000  0.541770 -0.112042  -0.004701   \n",
       "host_id                         0.541770  1.000000 -0.041237  -0.016341   \n",
       "latitude                       -0.112042 -0.041237  1.000000  -0.034970   \n",
       "longitude                      -0.004701 -0.016341 -0.034970   1.000000   \n",
       "price                           0.049324  0.038802 -0.073990  -0.030436   \n",
       "minimum_nights                 -0.083037 -0.089862  0.084924  -0.029208   \n",
       "number_of_reviews              -0.341513 -0.175573 -0.015022   0.102109   \n",
       "reviews_per_month               0.199958  0.169950 -0.029580   0.117578   \n",
       "calculated_host_listings_count  0.245014 -0.063522 -0.149961   0.049416   \n",
       "availability_365                0.113259  0.041840 -0.068740  -0.035727   \n",
       "\n",
       "                                   price  minimum_nights  number_of_reviews  \\\n",
       "id                              0.049324       -0.083037          -0.341513   \n",
       "host_id                         0.038802       -0.089862          -0.175573   \n",
       "latitude                       -0.073990        0.084924          -0.015022   \n",
       "longitude                      -0.030436       -0.029208           0.102109   \n",
       "price                           1.000000       -0.012214          -0.042013   \n",
       "minimum_nights                 -0.012214        1.000000          -0.076475   \n",
       "number_of_reviews              -0.042013       -0.076475           1.000000   \n",
       "reviews_per_month               0.000920       -0.139469           0.627965   \n",
       "calculated_host_listings_count  0.016555       -0.013964          -0.149681   \n",
       "availability_365                0.017451        0.150356          -0.066658   \n",
       "\n",
       "                                reviews_per_month  \\\n",
       "id                                       0.199958   \n",
       "host_id                                  0.169950   \n",
       "latitude                                -0.029580   \n",
       "longitude                                0.117578   \n",
       "price                                    0.000920   \n",
       "minimum_nights                          -0.139469   \n",
       "number_of_reviews                        0.627965   \n",
       "reviews_per_month                        1.000000   \n",
       "calculated_host_listings_count          -0.195962   \n",
       "availability_365                        -0.108243   \n",
       "\n",
       "                                calculated_host_listings_count  \\\n",
       "id                                                    0.245014   \n",
       "host_id                                              -0.063522   \n",
       "latitude                                             -0.149961   \n",
       "longitude                                             0.049416   \n",
       "price                                                 0.016555   \n",
       "minimum_nights                                       -0.013964   \n",
       "number_of_reviews                                    -0.149681   \n",
       "reviews_per_month                                    -0.195962   \n",
       "calculated_host_listings_count                        1.000000   \n",
       "availability_365                                      0.246230   \n",
       "\n",
       "                                availability_365  \n",
       "id                                      0.113259  \n",
       "host_id                                 0.041840  \n",
       "latitude                               -0.068740  \n",
       "longitude                              -0.035727  \n",
       "price                                   0.017451  \n",
       "minimum_nights                          0.150356  \n",
       "number_of_reviews                      -0.066658  \n",
       "reviews_per_month                      -0.108243  \n",
       "calculated_host_listings_count          0.246230  \n",
       "availability_365                        1.000000  "
      ]
     },
     "execution_count": 3,
     "metadata": {},
     "output_type": "execute_result"
    }
   ],
   "source": [
    "#find highest correlation to define parameter \n",
    "df.corr(method='pearson')"
   ]
  },
  {
   "cell_type": "code",
   "execution_count": 4,
   "id": "detected-biography",
   "metadata": {
    "scrolled": true
   },
   "outputs": [
    {
     "name": "stderr",
     "output_type": "stream",
     "text": [
      "C:\\Users\\User\\anaconda3\\envs\\tensorflow\\lib\\site-packages\\seaborn\\_decorators.py:43: FutureWarning: Pass the following variables as keyword args: x, y. From version 0.12, the only valid positional argument will be `data`, and passing other arguments without an explicit keyword will result in an error or misinterpretation.\n",
      "  FutureWarning\n"
     ]
    },
    {
     "data": {
      "text/plain": [
       "<AxesSubplot:xlabel='reviews_per_month', ylabel='number_of_reviews'>"
      ]
     },
     "execution_count": 4,
     "metadata": {},
     "output_type": "execute_result"
    },
    {
     "data": {
      "image/png": "[encoded data removed]",
      "text/plain": [
       "<Figure size 432x288 with 1 Axes>"
      ]
     },
     "metadata": {
      "needs_background": "light"
     },
     "output_type": "display_data"
    }
   ],
   "source": [
    "#highest correlation number_of_reviews and reviews_per_month 0.62\n",
    "x = df['reviews_per_month']\n",
    "y = df['number_of_reviews']\n",
    "sns.regplot(x,y)"
   ]
  },
  {
   "cell_type": "code",
   "execution_count": 5,
   "id": "charged-joyce",
   "metadata": {},
   "outputs": [
    {
     "name": "stderr",
     "output_type": "stream",
     "text": [
      "C:\\Users\\User\\anaconda3\\envs\\tensorflow\\lib\\site-packages\\seaborn\\_decorators.py:43: FutureWarning: Pass the following variables as keyword args: x, y. From version 0.12, the only valid positional argument will be `data`, and passing other arguments without an explicit keyword will result in an error or misinterpretation.\n",
      "  FutureWarning\n"
     ]
    },
    {
     "data": {
      "text/plain": [
       "<AxesSubplot:xlabel='number_of_reviews', ylabel='reviews_per_month'>"
      ]
     },
     "execution_count": 5,
     "metadata": {},
     "output_type": "execute_result"
    },
    {
     "data": {
      "image/png": "[encoded data removed]",
      "text/plain": [
       "<Figure size 432x288 with 1 Axes>"
      ]
     },
     "metadata": {
      "needs_background": "light"
     },
     "output_type": "display_data"
    }
   ],
   "source": [
    "#try plot in 1000\n",
    "a = ds['number_of_reviews']\n",
    "b = ds['reviews_per_month']\n",
    "sns.regplot(a,b)"
   ]
  },
  {
   "cell_type": "code",
   "execution_count": 6,
   "id": "exposed-equation",
   "metadata": {},
   "outputs": [
    {
     "data": {
      "text/html": [
       "<table class=\"simpletable\">\n",
       "<caption>OLS Regression Results</caption>\n",
       "<tr>\n",
       "  <th>Dep. Variable:</th>    <td>reviews_per_month</td> <th>  R-squared (uncentered):</th>      <td>   0.349</td> \n",
       "</tr>\n",
       "<tr>\n",
       "  <th>Model:</th>                   <td>OLS</td>        <th>  Adj. R-squared (uncentered):</th> <td>   0.349</td> \n",
       "</tr>\n",
       "<tr>\n",
       "  <th>Method:</th>             <td>Least Squares</td>   <th>  F-statistic:       </th>          <td>   4235.</td> \n",
       "</tr>\n",
       "<tr>\n",
       "  <th>Date:</th>             <td>Sun, 18 Apr 2021</td>  <th>  Prob (F-statistic):</th>           <td>  0.00</td>  \n",
       "</tr>\n",
       "<tr>\n",
       "  <th>Time:</th>                 <td>17:13:19</td>      <th>  Log-Likelihood:    </th>          <td> -13535.</td> \n",
       "</tr>\n",
       "<tr>\n",
       "  <th>No. Observations:</th>      <td>  7907</td>       <th>  AIC:               </th>          <td>2.707e+04</td>\n",
       "</tr>\n",
       "<tr>\n",
       "  <th>Df Residuals:</th>          <td>  7906</td>       <th>  BIC:               </th>          <td>2.708e+04</td>\n",
       "</tr>\n",
       "<tr>\n",
       "  <th>Df Model:</th>              <td>     1</td>       <th>                     </th>              <td> </td>    \n",
       "</tr>\n",
       "<tr>\n",
       "  <th>Covariance Type:</th>      <td>nonrobust</td>     <th>                     </th>              <td> </td>    \n",
       "</tr>\n",
       "</table>\n",
       "<table class=\"simpletable\">\n",
       "<tr>\n",
       "          <td></td>             <th>coef</th>     <th>std err</th>      <th>t</th>      <th>P>|t|</th>  <th>[0.025</th>    <th>0.975]</th>  \n",
       "</tr>\n",
       "<tr>\n",
       "  <th>number_of_reviews</th> <td>    0.0303</td> <td>    0.000</td> <td>   65.079</td> <td> 0.000</td> <td>    0.029</td> <td>    0.031</td>\n",
       "</tr>\n",
       "</table>\n",
       "<table class=\"simpletable\">\n",
       "<tr>\n",
       "  <th>Omnibus:</th>       <td>3831.341</td> <th>  Durbin-Watson:     </th> <td>   0.647</td> \n",
       "</tr>\n",
       "<tr>\n",
       "  <th>Prob(Omnibus):</th>  <td> 0.000</td>  <th>  Jarque-Bera (JB):  </th> <td>34102.006</td>\n",
       "</tr>\n",
       "<tr>\n",
       "  <th>Skew:</th>           <td> 2.131</td>  <th>  Prob(JB):          </th> <td>    0.00</td> \n",
       "</tr>\n",
       "<tr>\n",
       "  <th>Kurtosis:</th>       <td>12.238</td>  <th>  Cond. No.          </th> <td>    1.00</td> \n",
       "</tr>\n",
       "</table><br/><br/>Notes:<br/>[1] R² is computed without centering (uncentered) since the model does not contain a constant.<br/>[2] Standard Errors assume that the covariance matrix of the errors is correctly specified."
      ],
      "text/plain": [
       "<class 'statsmodels.iolib.summary.Summary'>\n",
       "\"\"\"\n",
       "                                 OLS Regression Results                                \n",
       "=======================================================================================\n",
       "Dep. Variable:      reviews_per_month   R-squared (uncentered):                   0.349\n",
       "Model:                            OLS   Adj. R-squared (uncentered):              0.349\n",
       "Method:                 Least Squares   F-statistic:                              4235.\n",
       "Date:                Sun, 18 Apr 2021   Prob (F-statistic):                        0.00\n",
       "Time:                        17:13:19   Log-Likelihood:                         -13535.\n",
       "No. Observations:                7907   AIC:                                  2.707e+04\n",
       "Df Residuals:                    7906   BIC:                                  2.708e+04\n",
       "Df Model:                           1                                                  \n",
       "Covariance Type:            nonrobust                                                  \n",
       "=====================================================================================\n",
       "                        coef    std err          t      P>|t|      [0.025      0.975]\n",
       "-------------------------------------------------------------------------------------\n",
       "number_of_reviews     0.0303      0.000     65.079      0.000       0.029       0.031\n",
       "==============================================================================\n",
       "Omnibus:                     3831.341   Durbin-Watson:                   0.647\n",
       "Prob(Omnibus):                  0.000   Jarque-Bera (JB):            34102.006\n",
       "Skew:                           2.131   Prob(JB):                         0.00\n",
       "Kurtosis:                      12.238   Cond. No.                         1.00\n",
       "==============================================================================\n",
       "\n",
       "Notes:\n",
       "[1] R² is computed without centering (uncentered) since the model does not contain a constant.\n",
       "[2] Standard Errors assume that the covariance matrix of the errors is correctly specified.\n",
       "\"\"\""
      ]
     },
     "execution_count": 6,
     "metadata": {},
     "output_type": "execute_result"
    }
   ],
   "source": [
    "x = df['number_of_reviews']\n",
    "y = df['reviews_per_month']\n",
    "y=y.fillna(method='ffill')\n",
    "sm.OLS(y,x).fit().summary()"
   ]
  },
  {
   "cell_type": "code",
   "execution_count": 7,
   "id": "quantitative-solution",
   "metadata": {},
   "outputs": [],
   "source": [
    "def MLE(param):\n",
    "    intercept, beta, sd = param[0], param[1], param[2]\n",
    "    yhat = intercept + beta*x\n",
    "    negLL = -np.sum(stats.norm.logpdf(y, loc=yhat, scale=sd) )\n",
    "    return(negLL)"
   ]
  },
  {
   "cell_type": "code",
   "execution_count": 8,
   "id": "blessed-interference",
   "metadata": {},
   "outputs": [
    {
     "name": "stdout",
     "output_type": "stream",
     "text": [
      "Intercept = 100\n",
      "Beta = 200\n",
      "Sd = 300\n"
     ]
    }
   ],
   "source": [
    "i=input(\"Intercept = \")\n",
    "b=input(\"Beta = \")\n",
    "s=input(\"Sd = \")"
   ]
  },
  {
   "cell_type": "code",
   "execution_count": 9,
   "id": "generous-latex",
   "metadata": {},
   "outputs": [
    {
     "name": "stdout",
     "output_type": "stream",
     "text": [
      "Optimization terminated successfully.\n",
      "         Current function value: 12062.941452\n",
      "         Iterations: 219\n",
      "         Function evaluations: 401\n"
     ]
    }
   ],
   "source": [
    "test = np.array([i,b,s]) #param0,param1,param2\n",
    "result = minimize(MLE, test, method = 'Nelder-Mead',options={'disp': True})"
   ]
  },
  {
   "cell_type": "code",
   "execution_count": 10,
   "id": "million-creek",
   "metadata": {},
   "outputs": [
    {
     "data": {
      "text/plain": [
       " final_simplex: (array([[0.81377285, 0.02036312, 1.11256577],\n",
       "       [0.8137228 , 0.0203642 , 1.11256859],\n",
       "       [0.81378977, 0.02036452, 1.11254583],\n",
       "       [0.81382356, 0.02036395, 1.11257155]]), array([12062.94145207, 12062.94145534, 12062.94145596, 12062.94146207]))\n",
       "           fun: 12062.941452069872\n",
       "       message: 'Optimization terminated successfully.'\n",
       "          nfev: 401\n",
       "           nit: 219\n",
       "        status: 0\n",
       "       success: True\n",
       "             x: array([0.81377285, 0.02036312, 1.11256577])"
      ]
     },
     "execution_count": 10,
     "metadata": {},
     "output_type": "execute_result"
    }
   ],
   "source": [
    "result"
   ]
  }
 ],
 "metadata": {
  "kernelspec": {
   "display_name": "Python 3",
   "language": "python",
   "name": "python3"
  },
  "language_info": {
   "codemirror_mode": {
    "name": "ipython",
    "version": 3
   },
   "file_extension": ".py",
   "mimetype": "text/x-python",
   "name": "python",
   "nbconvert_exporter": "python",
   "pygments_lexer": "ipython3",
   "version": "3.7.9"
  }
 },
 "nbformat": 4,
 "nbformat_minor": 5
}
