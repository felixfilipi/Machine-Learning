{
 "cells": [
  {
   "cell_type": "markdown",
   "id": "instant-double",
   "metadata": {},
   "source": [
    "<h1 style = \"text-align:center\">Building Simple_Linear_Regression\n",
    "    <h2 style = \"text-align:center\">From Scratch\n",
    "        <h3 style = \"text-align:center\">By Felix Filipi"
   ]
  },
  {
   "cell_type": "markdown",
   "id": "ordered-gates",
   "metadata": {},
   "source": [
    "<h3> Import Library"
   ]
  },
  {
   "cell_type": "code",
   "execution_count": 1,
   "id": "configured-alloy",
   "metadata": {},
   "outputs": [],
   "source": [
    "import numpy as np\n",
    "import matplotlib.pyplot as plt    "
   ]
  },
  {
   "cell_type": "markdown",
   "id": "laden-electric",
   "metadata": {},
   "source": [
    "<h3> Theory of Simple Linear Regression </h3>"
   ]
  },
  {
   "cell_type": "markdown",
   "id": "early-incidence",
   "metadata": {},
   "source": [
    "First, we need to know the basic formula for Linear Regression:\n",
    "<h2>$f(x) = w.x + b$</h2>\n",
    "\n",
    "Where, w = weight, x = feature, and b = intercept / bias\n",
    "\n",
    "Then we need to find the error, and here we are using Ordinary Least Square (OLS) cost function, and it can be defined as:\n",
    "<h2>$E = (y_{i} - (w.x_{i}+b))^2$</h2>\n",
    "\n",
    "Then we need to derivate this function:\n",
    "<h2>$\\frac{\\partial{E(w,b)}}{\\partial{b}} = -2\\Sigma_{i=1}^{n}(y_{i}-w.x_{i}-b)$</h2>\n",
    "\n",
    "Because the error should be 0, then\n",
    "<h2>$\\Sigma_{i=1}^{n}(y_{i}-w.x_{i}-b)=0$</h2>\n",
    "\n",
    "So we can substitute the formula and gain:\n",
    "<h2>$\\hat{b} = \\bar{y}-w.\\bar{x}$</h2>\n",
    "\n",
    "Where $\\bar{y}$ = Y mean, $\\bar{x}$ = X mean\n",
    "\n",
    "And do the same way (derivate partialy) for the weight, and we get the weight formula:\n",
    "\n",
    "<h2>$\\hat{w} = \\frac{\\Sigma_{i=1}^{n} x_{i}(y_{i}-\\bar{y})}{\\Sigma_{i=1}^{n} x_{i}(x_{i}-\\bar{x})}$</h2>"
   ]
  },
  {
   "cell_type": "markdown",
   "id": "timely-victoria",
   "metadata": {},
   "source": [
    "<h3> Define Class"
   ]
  },
  {
   "cell_type": "code",
   "execution_count": 2,
   "id": "fiscal-bibliography",
   "metadata": {},
   "outputs": [],
   "source": [
    "class Simple_Linear_Regression:\n",
    "\n",
    "    def get_csv_dataset(self, path):\n",
    "        ds = np.genfromtxt(path, delimiter =',', skip_header=1)\n",
    "        return ds\n",
    "\n",
    "    def MinMaxScaler(self, ds):\n",
    "        min_max_values = []\n",
    "        for i in range(len(ds[0])):\n",
    "            col = [row[i] for row in ds]\n",
    "            min_value = min(col)\n",
    "            max_value = max(col)\n",
    "            min_max_values.append([min_value,max_value])\n",
    "\n",
    "        for rows in ds:\n",
    "            for i in range(len(rows)):\n",
    "                rows[i] = (rows[i]-min_max_values[i][0]) / (min_max_values[i][1]-min_max_values[i][0])\n",
    "\n",
    "    def mean(self,x):\n",
    "        means = np.sum(x)/x.shape[0]\n",
    "        self.means = means\n",
    "        return self.means\n",
    "\n",
    "    def get_bias(self,y_mean,weight,x_mean):\n",
    "        bias = y_mean - weight*x_mean\n",
    "        self.bias = bias\n",
    "        return self.bias\n",
    "\n",
    "    def get_weight(self,feature,target,target_mean,feature_mean):\n",
    "        denominator = []\n",
    "        numerator = []\n",
    "        for i in range(feature.shape[0]):\n",
    "            num = (feature[i]*(target[i]-target_mean))\n",
    "            den = (feature[i]*(feature[i]-feature_mean))\n",
    "            numerator.append(num)\n",
    "            denominator.append(den)\n",
    "        numerator = sum(numerator)\n",
    "        denominator = sum(denominator)\n",
    "        weight = numerator/denominator\n",
    "        self.weight = weight\n",
    "        return self.weight\n",
    "    \n",
    "    def fit(self, feature,target):\n",
    "        self.feature = feature\n",
    "        self.target = target\n",
    "        self.feature_mean = self.mean(self.feature)\n",
    "        self.target_mean = self.mean(self.target)\n",
    "        self.weight = self.get_weight(feature,target,self.target_mean,self.feature_mean)\n",
    "        self.bias = self.get_bias(self.target_mean, self.weight, self.feature_mean)\n",
    "        print('fit model()')\n",
    "        \n",
    "    def predict(self,x):\n",
    "        self.x = x\n",
    "        self.prediction = abs(self.weight*self.x + self.bias)\n",
    "        return self.prediction\n",
    "    \n",
    "    def visualize(self):\n",
    "        plt.scatter(self.feature,self.target)\n",
    "        plt.plot(self.feature,self.prediction)"
   ]
  },
  {
   "cell_type": "markdown",
   "id": "violent-introduction",
   "metadata": {},
   "source": [
    "<h3> Call the class"
   ]
  },
  {
   "cell_type": "code",
   "execution_count": 3,
   "id": "juvenile-lafayette",
   "metadata": {},
   "outputs": [
    {
     "name": "stdout",
     "output_type": "stream",
     "text": [
      "fit model()\n"
     ]
    },
    {
     "data": {
      "image/png": "[encoded data removed]",
      "text/plain": [
       "<Figure size 432x288 with 1 Axes>"
      ]
     },
     "metadata": {
      "needs_background": "light"
     },
     "output_type": "display_data"
    }
   ],
   "source": [
    "#Call my class\n",
    "slr = Simple_Linear_Regression()\n",
    "\n",
    "#Call your dataset\n",
    "ds = slr.get_csv_dataset('Salary_Data.csv')\n",
    "\n",
    "#Normalize your dataset\n",
    "scaled = slr.MinMaxScaler(ds)\n",
    "\n",
    "#Define your feature and target\n",
    "feature = ds[:,0]\n",
    "target = ds[:,1]\n",
    "\n",
    "#Fit your Model\n",
    "slr.fit(feature,target)\n",
    "\n",
    "#Predict your model (in this case using train dataset)\n",
    "prediction = slr.predict(feature)\n",
    "\n",
    "#Visualize your model\n",
    "slr.visualize()"
   ]
  }
 ],
 "metadata": {
  "kernelspec": {
   "display_name": "Python 3",
   "language": "python",
   "name": "python3"
  },
  "language_info": {
   "codemirror_mode": {
    "name": "ipython",
    "version": 3
   },
   "file_extension": ".py",
   "mimetype": "text/x-python",
   "name": "python",
   "nbconvert_exporter": "python",
   "pygments_lexer": "ipython3",
   "version": "3.7.9"
  }
 },
 "nbformat": 4,
 "nbformat_minor": 5
}
